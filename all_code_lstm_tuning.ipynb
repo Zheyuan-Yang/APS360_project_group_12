{
  "cells": [
    {
      "cell_type": "code",
      "source": [
        "from google.colab import drive\n",
        "drive.mount('/content/drive')"
      ],
      "metadata": {
        "id": "NENROZ0T0m9D",
        "outputId": "9d3a3053-248f-4dc7-bde0-eee7c93aac3c",
        "colab": {
          "base_uri": "https://localhost:8080/"
        }
      },
      "execution_count": 1,
      "outputs": [
        {
          "output_type": "stream",
          "name": "stdout",
          "text": [
            "Mounted at /content/drive\n"
          ]
        }
      ]
    },
    {
      "cell_type": "code",
      "source": [
        "! cp '/content/drive/MyDrive/data' '/' -r"
      ],
      "metadata": {
        "id": "PSHfppoAE7Bj"
      },
      "execution_count": null,
      "outputs": []
    },
    {
      "cell_type": "code",
      "source": [
        "! rm /model -r\n",
        "! mkdir /model"
      ],
      "metadata": {
        "id": "OssqkfxpGApJ"
      },
      "execution_count": null,
      "outputs": []
    },
    {
      "cell_type": "markdown",
      "source": [
        "### Load Data"
      ],
      "metadata": {
        "collapsed": false,
        "pycharm": {
          "name": "#%% md\n"
        },
        "id": "k4paDiag0lNg"
      }
    },
    {
      "cell_type": "code",
      "source": [
        "import pandas as pd\n",
        "import torchtext\n",
        "import torch\n",
        "import torch.nn as nn\n",
        "from torch.utils.data import TensorDataset, DataLoader\n",
        "import numpy as np\n",
        "import matplotlib.pyplot as plt\n",
        "import time\n",
        "import csv"
      ],
      "metadata": {
        "id": "BIhi0eyZq9HY"
      },
      "execution_count": 13,
      "outputs": []
    },
    {
      "cell_type": "code",
      "source": [
        "fileNn = '/content/drive/MyDrive/APS360_project_group_12'"
      ],
      "metadata": {
        "id": "jDZFsrDrtNe6"
      },
      "execution_count": 18,
      "outputs": []
    },
    {
      "cell_type": "code",
      "source": [
        "# funciton used to skip empty rows (51st - end) in new data\n",
        "\n",
        "def skipFromHere(index):\n",
        "\n",
        "    if index > 50:\n",
        "        return True\n",
        "    \n",
        "    return False"
      ],
      "metadata": {
        "id": "7lz_LlH58PLv"
      },
      "execution_count": 5,
      "outputs": []
    },
    {
      "cell_type": "code",
      "execution_count": 19,
      "metadata": {
        "collapsed": true,
        "pycharm": {
          "name": "#%%\n"
        },
        "id": "YWA4tXeB0lNh"
      },
      "outputs": [],
      "source": [
        "def data_loader(batch_size=128):\n",
        "    # load data from csv file\n",
        "    fields = ['news_article', 'news_category']\n",
        "\n",
        "    train_data = pd.read_csv(fileNn + '/content/inshort_news_data-train.csv', header=0, encoding='ISO-8859-1', usecols=fields, skip_blank_lines=True)\n",
        "    val_data = pd.read_csv(fileNn +'/content/inshort_news_data-val.csv', header=0, encoding='ISO-8859-1', usecols=fields, skip_blank_lines=True)\n",
        "    test_data = pd.read_csv(fileNn +'/content/inshort_news_data-test.csv', header=0, encoding='ISO-8859-1', usecols=fields, skip_blank_lines=True)\n",
        "    new_data = pd.read_csv(fileNn +'/content/new_news_articles.csv',header=0, encoding='ISO-8859-1', usecols=fields, skip_blank_lines=True, skiprows=lambda x: skipFromHere(x))\n",
        "    # read_csv seems have bugs for skip_blank_lines accoring to return value of what i tried for \n",
        "    # new_data before and online forum, so i use skirows instead of skip_blank_lines\n",
        "\n",
        "\n",
        "    # Creating training and testing data\n",
        "    X_train = train_data['news_article']\n",
        "    Y_train = train_data['news_category']\n",
        "\n",
        "    X_test = test_data['news_article']\n",
        "    Y_test = test_data['news_category']\n",
        "\n",
        "    X_val = val_data['news_article']\n",
        "    Y_val = val_data['news_category']\n",
        "    \n",
        "    X_new = new_data['news_article']\n",
        "    Y_new = new_data['news_category']\n",
        "\n",
        "    for i in range(X_train.shape[0]):\n",
        "      X_train[i] = X_train[i].split()\n",
        "\n",
        "    for j in range(X_val.shape[0]):\n",
        "      X_val[j] = X_val[j].split()\n",
        "\n",
        "    for k in range(X_test.shape[0]):\n",
        "      X_test[k] = X_test[k].split()\n",
        "\n",
        "    for m in range(X_new.shape[0]):\n",
        "      X_new[m] = X_new[m].split()\n",
        "    # fixing bugs for interating out of range in above loop about new data\n",
        "\n",
        "\n",
        "    Y_train = pd.get_dummies(Y_train).to_numpy()\n",
        "    Y_val = pd.get_dummies(Y_val).to_numpy()\n",
        "    Y_test = pd.get_dummies(Y_test).to_numpy()\n",
        "    Y_new = pd.get_dummies(Y_new).to_numpy()\n",
        "\n",
        "    # stopwords to eliminate useless words\n",
        "    stopwords = []\n",
        "    stop = open(fileNn + '/content/stopwords.txt', encoding=\"utf-8\")\n",
        "    for line in stop:\n",
        "      stopwords.append(line.strip())\n",
        "    stop.close()\n",
        "\n",
        "    # choose first 61 words\n",
        "    for ix in X_train:\n",
        "      if (len(ix) > 61):\n",
        "        ix = ix[0:61]\n",
        "    for ix in X_val:\n",
        "      if (len(ix) > 61):\n",
        "        ix = ix[0:61]\n",
        "    for ix in X_test:\n",
        "      if (len(ix) > 61):\n",
        "        ix = ix[0:61]\n",
        "    \n",
        "    for i in range(X_new.shape[0]):\n",
        "      if (len(X_new[i]) > 61):\n",
        "        X_new[i] = X_new[i][0:61]\n",
        "    # somehow above loops don't change len of each entry, now they are fine\n",
        "\n",
        "    # utilize Glove6B for embedding\n",
        "    glove = torchtext.vocab.GloVe(name='6B', dim=50)\n",
        "\n",
        "    # Filling the embedding matrix\n",
        "    embedding_matrix_train = np.zeros((X_train.shape[0], 61, 50))\n",
        "    embedding_matrix_val = np.zeros((X_val.shape[0], 61, 50))\n",
        "    embedding_matrix_test = np.zeros((X_test.shape[0], 61, 50))\n",
        "    embedding_matrix_new = np.zeros((X_new.shape[0], 61, 50))\n",
        "\n",
        "    for i in range(X_train.shape[0]):\n",
        "      for j in range(len(X_train[i])):\n",
        "        if not (X_train[i][j].lower() in stopwords):\n",
        "          embedding_matrix_train[i][j] = glove[X_train[i][j].lower()]\n",
        "    \n",
        "    for i in range(X_val.shape[0]):\n",
        "      for j in range(len(X_val[i])):\n",
        "        if not (X_val[i][j].lower() in stopwords):\n",
        "          embedding_matrix_val[i][j] = glove[X_val[i][j].lower()]\n",
        "\n",
        "    for i in range(X_test.shape[0]):\n",
        "      for j in range(len(X_test[i])):\n",
        "        if not (X_test[i][j].lower() in stopwords):\n",
        "          embedding_matrix_test[i][j] = glove[X_test[i][j].lower()]\n",
        "    \n",
        "    for i in range(X_new.shape[0]):\n",
        "      for j in range(len(X_new[i])):\n",
        "        if not (X_new[i][j].lower() in stopwords):\n",
        "          embedding_matrix_new[i][j] = glove[X_new[i][j].lower()]\n",
        "\n",
        "    X_train_t = torch.from_numpy(embedding_matrix_train).to(torch.float32)\n",
        "    Y_train_t = torch.from_numpy(Y_train).to(torch.float32)\n",
        "    X_val_t = torch.from_numpy(embedding_matrix_val).to(torch.float32)\n",
        "    Y_val_t = torch.from_numpy(Y_val).to(torch.float32)\n",
        "    X_test_t = torch.from_numpy(embedding_matrix_test).to(torch.float32)\n",
        "    Y_test_t = torch.from_numpy(Y_test).to(torch.float32)\n",
        "    X_new_t = torch.from_numpy(embedding_matrix_new).to(torch.float32)\n",
        "    Y_new_t = torch.from_numpy(Y_new).to(torch.float32)\n",
        "\n",
        "    train_dataset = TensorDataset(X_train_t, Y_train_t)\n",
        "    val_dataset = TensorDataset(X_val_t, Y_val_t)\n",
        "    test_dataset = TensorDataset(X_test_t, Y_test_t)\n",
        "    new_dataset = TensorDataset(X_new_t, Y_new_t)\n",
        "\n",
        "    train_dataloader = DataLoader(train_dataset, batch_size=batch_size)\n",
        "    val_dataloader = DataLoader(val_dataset, batch_size=batch_size)\n",
        "    test_dataloader = DataLoader(test_dataset, batch_size=batch_size)\n",
        "    new_dataloader = DataLoader(new_dataset, batch_size=batch_size)\n",
        "\n",
        "    return train_dataloader, val_dataloader, test_dataloader, new_dataloader"
      ]
    },
    {
      "cell_type": "code",
      "source": [
        "train_loader, val_loader, test_loader, new_loader = data_loader()"
      ],
      "metadata": {
        "id": "6RmVocW5sOcT",
        "colab": {
          "base_uri": "https://localhost:8080/"
        },
        "outputId": "4d9e40e5-18ae-47f1-c180-b2aa168ceb03"
      },
      "execution_count": 9,
      "outputs": [
        {
          "output_type": "stream",
          "name": "stderr",
          "text": [
            ".vector_cache/glove.6B.zip: 862MB [02:39, 5.41MB/s]                           \n",
            "100%|█████████▉| 399999/400000 [00:11<00:00, 35831.14it/s]\n"
          ]
        }
      ]
    },
    {
      "cell_type": "code",
      "source": [
        "print('Num training articles:',len(train_loader.dataset))\n",
        "print('Num validation articles:',len(val_loader.dataset))\n",
        "print('Num test articles:',len(test_loader.dataset))\n",
        "print('Num new articles:',len(new_loader.dataset))"
      ],
      "metadata": {
        "colab": {
          "base_uri": "https://localhost:8080/"
        },
        "id": "K6Qt_1IlP7Lu",
        "outputId": "7e8099fc-fe91-4d62-a2d6-1efbe20080e1"
      },
      "execution_count": 11,
      "outputs": [
        {
          "output_type": "stream",
          "name": "stdout",
          "text": [
            "Num training articles: 6380\n",
            "Num validation articles: 1560\n",
            "Num test articles: 1560\n",
            "Num new articles: 50\n"
          ]
        }
      ]
    },
    {
      "cell_type": "markdown",
      "source": [
        "### Architecture"
      ],
      "metadata": {
        "collapsed": false,
        "pycharm": {
          "name": "#%% md\n"
        },
        "id": "NBx-LLzS0lNj"
      }
    },
    {
      "cell_type": "code",
      "execution_count": 15,
      "outputs": [],
      "source": [
        "use_cuda = True\n",
        "\n",
        "# I made this a bidirectional LSTM.\n",
        "class LSTM_news_classifier_3(nn.Module):\n",
        "    def __init__(self, input_size, hidden_size, num_class):\n",
        "        super(LSTM_news_classifier_3, self).__init__()\n",
        "        self.name = \"LSTM_3\"\n",
        "        self.hidden_size = hidden_size\n",
        "        self.rnn = nn.LSTM(input_size=input_size, hidden_size=hidden_size, batch_first=True, bidirectional=True)\n",
        "        self.fc = nn.Linear(2 * hidden_size, num_class)\n",
        "\n",
        "    def forward(self, x):\n",
        "        h0 = torch.zeros(2, x.size(0), self.hidden_size)\n",
        "        c0 = torch.zeros(2, x.size(0), self.hidden_size)\n",
        "        if use_cuda and torch.cuda.is_available():\n",
        "            h0 = h0.cuda()\n",
        "            c0 = c0.cuda()\n",
        "        out, (h_n, c_n) = self.rnn(x, (h0, c0))\n",
        "        return self.fc(out[:,-1,:])\n",
        "\n",
        "\n",
        "# LSTM model\n",
        "class LSTM_news_classifier_4(nn.Module):\n",
        "    def __init__(self, input_size, hidden_size, num_class):\n",
        "        super(LSTM_news_classifier_4, self).__init__()\n",
        "        self.name = \"LSTM_4\"\n",
        "        self.hidden_size = hidden_size\n",
        "        self.rnn = nn.LSTM(input_size=input_size, hidden_size=hidden_size, batch_first=True, num_layers=2, bidirectional=True)\n",
        "        self.fc = nn.Linear(2 * hidden_size, num_class)\n",
        "\n",
        "    def forward(self, x):\n",
        "        h0 = torch.zeros(4, x.size(0), self.hidden_size)\n",
        "        c0 = torch.zeros(4, x.size(0), self.hidden_size)\n",
        "        if use_cuda and torch.cuda.is_available():\n",
        "            h0 = h0.cuda()\n",
        "            c0 = c0.cuda()\n",
        "        out, (h_n, c_n) = self.rnn(x, (h0, c0))\n",
        "        return self.fc(out[:,-1,:])\n",
        "\n",
        "\n",
        "# LSTM model\n",
        "class LSTM_news_classifier_5(nn.Module):\n",
        "    def __init__(self, input_size, hidden_size, num_class):\n",
        "        super(LSTM_news_classifier_5, self).__init__()\n",
        "        self.name = \"LSTM_4\"\n",
        "        self.hidden_size = hidden_size\n",
        "        self.rnn = nn.LSTM(input_size=input_size, hidden_size=hidden_size, batch_first=True, num_layers=2, bidirectional=True)\n",
        "        self.fc = nn.Linear(4 * hidden_size, num_class)\n",
        "\n",
        "    def forward(self, x):\n",
        "        h0 = torch.zeros(4, x.size(0), self.hidden_size)\n",
        "        c0 = torch.zeros(4, x.size(0), self.hidden_size)\n",
        "        if use_cuda and torch.cuda.is_available():\n",
        "            h0 = h0.cuda()\n",
        "            c0 = c0.cuda()\n",
        "        out, (h_n, c_n) = self.rnn(x, (h0, c0))\n",
        "        return self.fc(h_n.view(-1, self.hidden_size * 4))"
      ],
      "metadata": {
        "pycharm": {
          "name": "#%%\n"
        },
        "id": "r97Hm3-x0lNj"
      }
    },
    {
      "cell_type": "markdown",
      "source": [
        "### Training and Testing Code"
      ],
      "metadata": {
        "collapsed": false,
        "pycharm": {
          "name": "#%% md\n"
        },
        "id": "JgVHyyl30lNk"
      }
    },
    {
      "cell_type": "code",
      "execution_count": 20,
      "outputs": [],
      "source": [
        "def get_model_path(name, batch_size, learning_rate, epoch, exercise_code):\n",
        "    \"\"\" Generate a name for the model consisting of all the hyperparameter values\n",
        "\n",
        "    Args:\n",
        "        config: Configuration object containing the hyperparameters\n",
        "    Returns:\n",
        "        path: A string with the hyperparameter name and value concatenated\n",
        "    \"\"\"\n",
        "    path = \"model_{0}_bs{1}_lr{2}_epoch{3}_exercise_{4}\".format(name,\n",
        "                                                   batch_size,\n",
        "                                                   learning_rate,\n",
        "                                                   epoch, exercise_code)\n",
        "    path = fileNn + \"/model/new/\" + path\n",
        "    return path\n",
        "\n",
        "\n",
        "def get_csv_path(name, batch_size, learning_rate, exercise_code):\n",
        "    \"\"\" Generate a name for the csv file consisting of all training and validation data\n",
        "\n",
        "    Args:\n",
        "        config: Configuration object containing the hyperparameters\n",
        "    Returns:\n",
        "        path: A string with the hyperparameter name and value concatenated\n",
        "    \"\"\"\n",
        "    path = \"data_{0}_bs{1}_lr{2}_exercise_{3}.csv\".format(name,batch_size, learning_rate, exercise_code)\n",
        "    path = fileNn + \"/model/new/\" + path\n",
        "    return path\n",
        "\n",
        "\n",
        "def get_fig_path(name1, name2, batch_size, learning_rate, exercise_code):\n",
        "    path = \"fig_{0}_bs{1}_lr{2}_exercise_{3}_{4}.png\".format(name1, batch_size, learning_rate, exercise_code, name2)\n",
        "    path = fileNn + \"/model/new/\" + path\n",
        "    return path\n",
        "\n",
        "def find_the_best_model(val_acc):\n",
        "    \"\"\" Find the model with the best validation accuracy\n",
        "\n",
        "    Args:\n",
        "        validation accuracy list\n",
        "    Returns:\n",
        "        The epoch with the greatest accuracy and its accuracy\n",
        "    \"\"\"\n",
        "    cur_largest = -1\n",
        "    cur_largest_epoch = -1\n",
        "    for epoch in range(len(val_acc)):\n",
        "        if(val_acc[epoch] > cur_largest):\n",
        "            cur_largest = val_acc[epoch]\n",
        "            cur_largest_epoch = epoch\n",
        "    return cur_largest_epoch, cur_largest\n",
        "\n",
        "\n",
        "def save_to_csv(path, epochs, train_losses, train_acc, val_losses, val_acc, header):\n",
        "    organized_data = []\n",
        "    organized_data.append(header)\n",
        "    for i in range(len(epochs)):\n",
        "        organized_data.append([epochs[i], train_losses[i], train_acc[i], val_losses[i], val_acc[i]])\n",
        "    f = open(path,'w+')\n",
        "    write_csv = csv.writer(f)\n",
        "    write_csv.writerows(organized_data)\n",
        "\n",
        "\n",
        "def train_net(net, batch_size, learning_rate, num_epochs, train_loader, val_loader, exercise_code):\n",
        "    assert num_epochs > 0, \"num_epochs must be an integer that is greater than 0\"\n",
        "    assert learning_rate > 0, \"learning_rate must be greater than 0\"\n",
        "    torch.manual_seed(1000)\n",
        "    criterion = nn.MSELoss()\n",
        "    optimizer = torch.optim.Adam(net.parameters(),\n",
        "                                 lr=learning_rate,\n",
        "                                 weight_decay=1e-5)\n",
        "    epochs, train_losses, train_acc, val_losses, val_acc = [], [], [], [], []\n",
        "    start_time = time.time()\n",
        "    for epoch in range(num_epochs):\n",
        "        epochs.append(epoch)\n",
        "        total, correct = 0, 0\n",
        "        total_loss = 0\n",
        "        for articles, labels in train_loader:\n",
        "            if use_cuda and torch.cuda.is_available():\n",
        "                articles = articles.cuda()\n",
        "                labels = labels.cuda()\n",
        "            out = net(articles)\n",
        "            loss = criterion(out, labels)\n",
        "            total_loss = total_loss + loss.item() * articles.shape[0]\n",
        "            loss.backward()\n",
        "            optimizer.step()\n",
        "            optimizer.zero_grad()\n",
        "            # print(out.shape)\n",
        "            pred = torch.squeeze(out.max(1, keepdim=True)[1], 1)\n",
        "            # print(pred)\n",
        "            # print(torch.argmax(labels, dim=1))\n",
        "            correct = correct + pred.eq(torch.argmax(labels, dim=1)).sum().item()\n",
        "            total = total + articles.shape[0]\n",
        "            # print(correct, total)\n",
        "        train_acc.append(correct/total)\n",
        "        train_losses.append(total_loss/total)\n",
        "\n",
        "        val_correct = 0\n",
        "        val_total_loss = 0\n",
        "        val_total = 0\n",
        "        for val_articles, val_labels in val_loader:\n",
        "            if use_cuda and torch.cuda.is_available():\n",
        "                val_articles = val_articles.cuda()\n",
        "                val_labels = val_labels.cuda()\n",
        "            val_out = net(val_articles)\n",
        "            # print(val_imgs)\n",
        "            val_pred = torch.squeeze(val_out.max(1, keepdim=True)[1], 1)\n",
        "            val_correct = val_correct + val_pred.eq(torch.argmax(val_labels, dim=1)).sum().item()\n",
        "            val_total = val_total + val_articles.shape[0]\n",
        "            val_total_loss = val_total_loss + (criterion(val_out, val_labels)).item() * val_articles.shape[0]\n",
        "        val_losses.append(val_total_loss/val_total) # Append the average loss\n",
        "        val_acc.append(val_correct/val_total)\n",
        "\n",
        "        print(\"Epoch {0}:\\ntraining accuracy: {1}\\ttraining loss: {2}\\tvalidation accuracy: {3}\\tvalidation loss:{4}\".format(epoch, train_acc[epoch], train_losses[epoch], val_acc[epoch], val_losses[epoch]))\n",
        "        print(\"Correct number of outputs in validation: {0}\\tTotal number of outputs in validation: {1}\\tTotal validation loss {2}\".format(val_correct, val_total, val_total_loss))\n",
        "        model_path = get_model_path(net.name, batch_size, learning_rate, epoch, exercise_code)\n",
        "        torch.save(net.state_dict(), model_path)\n",
        "    end_time = time.time()\n",
        "    print(\"Total time:  % 6.2f s  Time per Epoch: % 6.2f s \" % (\n",
        "    (end_time - start_time), ((end_time - start_time) / num_epochs)))\n",
        "\n",
        "    best_epoch, best_epoch_acc = find_the_best_model(val_acc)\n",
        "    print(\"The best epoch: {0}\\tAccuracy:{1}\".format(best_epoch, best_epoch_acc))\n",
        "\n",
        "    csv_path = get_csv_path(net.name, batch_size, learning_rate, exercise_code)\n",
        "    header = [\"Epoch\", \"Train Loss\", \"Train Accuracy\", \"Validation Loss\", \"Validation Accuracy\"]\n",
        "    save_to_csv(csv_path, epochs, train_losses, train_acc, val_losses, val_acc, header)\n",
        "\n",
        "    # plotting\n",
        "    plt.title(\"Training Loss Curve\")\n",
        "    plt.plot(epochs, train_losses, label=\"Train\")\n",
        "    plt.xlabel(\"Epochs\")\n",
        "    plt.ylabel(\"Train Loss\")\n",
        "    plt.savefig(get_fig_path(net.name, \"Training_Loss\", batch_size, learning_rate, exercise_code))\n",
        "    plt.show()\n",
        "\n",
        "    plt.title(\"Training Accuracy Curve\")\n",
        "    plt.plot(epochs, train_acc, label=\"Training\")\n",
        "    plt.xlabel(\"Epochs\")\n",
        "    plt.ylabel(\"Training Accuracy\")\n",
        "    plt.savefig(get_fig_path(net.name, \"Training_Acc\", batch_size, learning_rate, exercise_code))\n",
        "    plt.show()\n",
        "\n",
        "    plt.title(\"Validation Loss Curve\")\n",
        "    plt.plot(epochs, val_losses, label=\"Validation\")\n",
        "    plt.xlabel(\"Epochs\")\n",
        "    plt.ylabel(\"Train Loss\")\n",
        "    plt.savefig(get_fig_path(net.name, \"Val_Loss\", batch_size, learning_rate, exercise_code))\n",
        "    plt.show()\n",
        "\n",
        "    plt.title(\"Validation Accuracy Curve\")\n",
        "    plt.plot(epochs, val_acc, label=\"Validation\")\n",
        "    plt.xlabel(\"Epochs\")\n",
        "    plt.ylabel(\"Validation Accuracy\")\n",
        "    plt.savefig(get_fig_path(net.name, \"Val_Acc\", batch_size, learning_rate, exercise_code))\n",
        "    plt.show()\n",
        "\n",
        "\n",
        "def test_model(net_type, parameters, use_cuda, model_path, data_loader, criterion):\n",
        "    state = torch.load(model_path)\n",
        "    net = net_type(parameters[0], parameters[1], parameters[2])\n",
        "    net.load_state_dict(state)\n",
        "    if use_cuda and torch.cuda.is_available():\n",
        "        net.cuda()\n",
        "        print('CUDA is available!  Training on GPU ...')\n",
        "    else:\n",
        "        print('CUDA is not available.  Training on CPU ...')\n",
        "    correct = 0\n",
        "    total_loss = 0\n",
        "    total = 0\n",
        "    for articles, labels in data_loader:\n",
        "        if use_cuda and torch.cuda.is_available():\n",
        "            articles = articles.cuda()\n",
        "            labels = labels.cuda()\n",
        "        out = net(articles)\n",
        "        pred = torch.squeeze(out.max(1, keepdim=True)[1], 1)\n",
        "        correct = correct + pred.eq(torch.argmax(labels, dim=1)).sum().item()\n",
        "        total = total + articles.shape[0]\n",
        "        total_loss = total_loss + (criterion(out, labels)).item() * articles.shape[0]\n",
        "    return correct, total, correct / total, total_loss / total"
      ],
      "metadata": {
        "pycharm": {
          "name": "#%%\n"
        },
        "id": "G3SQ8YIm0lNk"
      }
    },
    {
      "cell_type": "markdown",
      "source": [
        "Train and test your model here"
      ],
      "metadata": {
        "collapsed": false,
        "pycharm": {
          "name": "#%% md\n"
        },
        "id": "XHaSVNYM0lNl"
      }
    },
    {
      "cell_type": "code",
      "source": [
        "News_model = LSTM_news_classifier_3(input_size= 50,hidden_size= 50,num_class= 7)\n",
        "if use_cuda and torch.cuda.is_available():\n",
        "  News_model.cuda()\n",
        "  print('CUDA is available!  Training on GPU ...')\n",
        "else:\n",
        "  print('CUDA is not available.  Training on CPU ...')"
      ],
      "metadata": {
        "id": "e5qO3oIjFmFN",
        "outputId": "a0d436f2-b0c0-4b49-d595-8e1e168a4b71",
        "colab": {
          "base_uri": "https://localhost:8080/"
        }
      },
      "execution_count": 100,
      "outputs": [
        {
          "output_type": "stream",
          "name": "stdout",
          "text": [
            "CUDA is available!  Training on GPU ...\n"
          ]
        }
      ]
    },
    {
      "cell_type": "code",
      "source": [
        "train_net(net= News_model,batch_size= 100,learning_rate= 0.01,num_epochs= 100,train_loader= train_loader,val_loader= val_loader,exercise_code= 'Aug_11_2_bidirectional_1_layers_hidden_size_50')"
      ],
      "metadata": {
        "id": "Yov5VrVvJOWd",
        "colab": {
          "base_uri": "https://localhost:8080/",
          "height": 1000
        },
        "outputId": "4541c234-d66e-4f40-f7a6-92596e18bfdd"
      },
      "execution_count": 105,
      "outputs": [
        {
          "output_type": "stream",
          "name": "stdout",
          "text": [
            "Epoch 0:\n",
            "training accuracy: 0.961128526645768\ttraining loss: 0.009280352300576002\tvalidation accuracy: 0.8493589743589743\tvalidation loss:0.036787541936605404\n",
            "Correct number of outputs in validation: 1325\tTotal number of outputs in validation: 1560\tTotal validation loss 57.38856542110443\n",
            "Epoch 1:\n",
            "training accuracy: 0.9609717868338558\ttraining loss: 0.008899868324947862\tvalidation accuracy: 0.8467948717948718\tvalidation loss:0.03978341233271819\n",
            "Correct number of outputs in validation: 1321\tTotal number of outputs in validation: 1560\tTotal validation loss 62.062123239040375\n",
            "Epoch 2:\n",
            "training accuracy: 0.9592476489028213\ttraining loss: 0.009873961968213133\tvalidation accuracy: 0.857051282051282\tvalidation loss:0.03584640794075453\n",
            "Correct number of outputs in validation: 1337\tTotal number of outputs in validation: 1560\tTotal validation loss 55.92039638757706\n",
            "Epoch 3:\n",
            "training accuracy: 0.9639498432601881\ttraining loss: 0.008183870880593046\tvalidation accuracy: 0.8666666666666667\tvalidation loss:0.034639000663390526\n",
            "Correct number of outputs in validation: 1352\tTotal number of outputs in validation: 1560\tTotal validation loss 54.03684103488922\n",
            "Epoch 4:\n",
            "training accuracy: 0.9594043887147335\ttraining loss: 0.009273379518822723\tvalidation accuracy: 0.8416666666666667\tvalidation loss:0.04108050576387308\n",
            "Correct number of outputs in validation: 1313\tTotal number of outputs in validation: 1560\tTotal validation loss 64.085588991642\n",
            "Epoch 5:\n",
            "training accuracy: 0.957680250783699\ttraining loss: 0.01003130007488507\tvalidation accuracy: 0.8365384615384616\tvalidation loss:0.039808124876939334\n",
            "Correct number of outputs in validation: 1305\tTotal number of outputs in validation: 1560\tTotal validation loss 62.10067480802536\n",
            "Epoch 6:\n",
            "training accuracy: 0.9534482758620689\ttraining loss: 0.010795634774765625\tvalidation accuracy: 0.8538461538461538\tvalidation loss:0.03662409293345916\n",
            "Correct number of outputs in validation: 1332\tTotal number of outputs in validation: 1560\tTotal validation loss 57.13358497619629\n",
            "Epoch 7:\n",
            "training accuracy: 0.9639498432601881\ttraining loss: 0.008136428805611164\tvalidation accuracy: 0.842948717948718\tvalidation loss:0.038305168885451095\n",
            "Correct number of outputs in validation: 1315\tTotal number of outputs in validation: 1560\tTotal validation loss 59.75606346130371\n",
            "Epoch 8:\n",
            "training accuracy: 0.964576802507837\ttraining loss: 0.007664666355508715\tvalidation accuracy: 0.8442307692307692\tvalidation loss:0.03807496344431853\n",
            "Correct number of outputs in validation: 1317\tTotal number of outputs in validation: 1560\tTotal validation loss 59.3969429731369\n",
            "Epoch 9:\n",
            "training accuracy: 0.9670846394984326\ttraining loss: 0.006967940591392472\tvalidation accuracy: 0.8435897435897436\tvalidation loss:0.03904111606952471\n",
            "Correct number of outputs in validation: 1316\tTotal number of outputs in validation: 1560\tTotal validation loss 60.90414106845856\n",
            "Epoch 10:\n",
            "training accuracy: 0.9664576802507837\ttraining loss: 0.006984778150892743\tvalidation accuracy: 0.8487179487179487\tvalidation loss:0.03754918846564415\n",
            "Correct number of outputs in validation: 1324\tTotal number of outputs in validation: 1560\tTotal validation loss 58.57673400640488\n",
            "Epoch 11:\n",
            "training accuracy: 0.965987460815047\ttraining loss: 0.0077975952332156205\tvalidation accuracy: 0.85\tvalidation loss:0.037973233102223815\n",
            "Correct number of outputs in validation: 1326\tTotal number of outputs in validation: 1560\tTotal validation loss 59.23824363946915\n",
            "Epoch 12:\n",
            "training accuracy: 0.9578369905956113\ttraining loss: 0.00994506980085214\tvalidation accuracy: 0.823076923076923\tvalidation loss:0.04215936003587185\n",
            "Correct number of outputs in validation: 1284\tTotal number of outputs in validation: 1560\tTotal validation loss 65.76860165596008\n",
            "Epoch 13:\n",
            "training accuracy: 0.9589341692789969\ttraining loss: 0.009617078349835073\tvalidation accuracy: 0.8435897435897436\tvalidation loss:0.0376452536155016\n",
            "Correct number of outputs in validation: 1316\tTotal number of outputs in validation: 1560\tTotal validation loss 58.726595640182495\n",
            "Epoch 14:\n",
            "training accuracy: 0.9658307210031348\ttraining loss: 0.007596024739202754\tvalidation accuracy: 0.8435897435897436\tvalidation loss:0.03975866375825344\n",
            "Correct number of outputs in validation: 1316\tTotal number of outputs in validation: 1560\tTotal validation loss 62.023515462875366\n",
            "Epoch 15:\n",
            "training accuracy: 0.9678683385579937\ttraining loss: 0.006877613198420844\tvalidation accuracy: 0.8467948717948718\tvalidation loss:0.03977010754438547\n",
            "Correct number of outputs in validation: 1321\tTotal number of outputs in validation: 1560\tTotal validation loss 62.04136776924133\n",
            "Epoch 16:\n",
            "training accuracy: 0.9680250783699059\ttraining loss: 0.0068074622795826585\tvalidation accuracy: 0.8397435897435898\tvalidation loss:0.040186780538314426\n",
            "Correct number of outputs in validation: 1310\tTotal number of outputs in validation: 1560\tTotal validation loss 62.69137763977051\n",
            "Epoch 17:\n",
            "training accuracy: 0.9637931034482758\ttraining loss: 0.008062246317470148\tvalidation accuracy: 0.8211538461538461\tvalidation loss:0.04330468663038352\n",
            "Correct number of outputs in validation: 1281\tTotal number of outputs in validation: 1560\tTotal validation loss 67.55531114339828\n",
            "Epoch 18:\n",
            "training accuracy: 0.9595611285266458\ttraining loss: 0.009480346080359527\tvalidation accuracy: 0.8442307692307692\tvalidation loss:0.03792760826838322\n",
            "Correct number of outputs in validation: 1317\tTotal number of outputs in validation: 1560\tTotal validation loss 59.167068898677826\n",
            "Epoch 19:\n",
            "training accuracy: 0.9622257053291536\ttraining loss: 0.00875794906548712\tvalidation accuracy: 0.833974358974359\tvalidation loss:0.042166130397564325\n",
            "Correct number of outputs in validation: 1301\tTotal number of outputs in validation: 1560\tTotal validation loss 65.77916342020035\n",
            "Epoch 20:\n",
            "training accuracy: 0.9622257053291536\ttraining loss: 0.008607620891288716\tvalidation accuracy: 0.8397435897435898\tvalidation loss:0.03885746483619396\n",
            "Correct number of outputs in validation: 1310\tTotal number of outputs in validation: 1560\tTotal validation loss 60.617645144462585\n",
            "Epoch 21:\n",
            "training accuracy: 0.9579937304075236\ttraining loss: 0.009402225158676551\tvalidation accuracy: 0.8474358974358974\tvalidation loss:0.037588195006052656\n",
            "Correct number of outputs in validation: 1322\tTotal number of outputs in validation: 1560\tTotal validation loss 58.63758420944214\n",
            "Epoch 22:\n",
            "training accuracy: 0.9644200626959247\ttraining loss: 0.008133474510560122\tvalidation accuracy: 0.8480769230769231\tvalidation loss:0.03885923268703314\n",
            "Correct number of outputs in validation: 1323\tTotal number of outputs in validation: 1560\tTotal validation loss 60.6204029917717\n",
            "Epoch 23:\n",
            "training accuracy: 0.9636363636363636\ttraining loss: 0.007956589249818116\tvalidation accuracy: 0.8583333333333333\tvalidation loss:0.03740286227220144\n",
            "Correct number of outputs in validation: 1339\tTotal number of outputs in validation: 1560\tTotal validation loss 58.34846514463425\n",
            "Epoch 24:\n",
            "training accuracy: 0.9675548589341693\ttraining loss: 0.006899130395774183\tvalidation accuracy: 0.8551282051282051\tvalidation loss:0.03746754446854958\n",
            "Correct number of outputs in validation: 1334\tTotal number of outputs in validation: 1560\tTotal validation loss 58.44936937093735\n",
            "Epoch 25:\n",
            "training accuracy: 0.9641065830721003\ttraining loss: 0.008158285078829078\tvalidation accuracy: 0.857051282051282\tvalidation loss:0.03659657664023913\n",
            "Correct number of outputs in validation: 1337\tTotal number of outputs in validation: 1560\tTotal validation loss 57.09065955877304\n",
            "Epoch 26:\n",
            "training accuracy: 0.963166144200627\ttraining loss: 0.008321726173571192\tvalidation accuracy: 0.8352564102564103\tvalidation loss:0.040284194281468025\n",
            "Correct number of outputs in validation: 1303\tTotal number of outputs in validation: 1560\tTotal validation loss 62.84334307909012\n",
            "Epoch 27:\n",
            "training accuracy: 0.9641065830721003\ttraining loss: 0.008225852413669368\tvalidation accuracy: 0.8448717948717949\tvalidation loss:0.03911889019684914\n",
            "Correct number of outputs in validation: 1318\tTotal number of outputs in validation: 1560\tTotal validation loss 61.025468707084656\n",
            "Epoch 28:\n",
            "training accuracy: 0.9634796238244514\ttraining loss: 0.008476051844971775\tvalidation accuracy: 0.8538461538461538\tvalidation loss:0.03695036747898811\n",
            "Correct number of outputs in validation: 1332\tTotal number of outputs in validation: 1560\tTotal validation loss 57.64257326722145\n",
            "Epoch 29:\n",
            "training accuracy: 0.9633228840125392\ttraining loss: 0.008382853876717599\tvalidation accuracy: 0.8474358974358974\tvalidation loss:0.0409021434875635\n",
            "Correct number of outputs in validation: 1322\tTotal number of outputs in validation: 1560\tTotal validation loss 63.80734384059906\n",
            "Epoch 30:\n",
            "training accuracy: 0.9653605015673982\ttraining loss: 0.007662155881792681\tvalidation accuracy: 0.85\tvalidation loss:0.039813192112323564\n",
            "Correct number of outputs in validation: 1326\tTotal number of outputs in validation: 1560\tTotal validation loss 62.10857969522476\n",
            "Epoch 31:\n",
            "training accuracy: 0.9675548589341693\ttraining loss: 0.00677609556007161\tvalidation accuracy: 0.85\tvalidation loss:0.04115289980784441\n",
            "Correct number of outputs in validation: 1326\tTotal number of outputs in validation: 1560\tTotal validation loss 64.19852370023727\n",
            "Epoch 32:\n",
            "training accuracy: 0.9650470219435736\ttraining loss: 0.0074488678117951256\tvalidation accuracy: 0.8416666666666667\tvalidation loss:0.041145207217106454\n",
            "Correct number of outputs in validation: 1313\tTotal number of outputs in validation: 1560\tTotal validation loss 64.18652325868607\n",
            "Epoch 33:\n",
            "training accuracy: 0.9663009404388715\ttraining loss: 0.0074625817890976755\tvalidation accuracy: 0.8512820512820513\tvalidation loss:0.0387532067604554\n",
            "Correct number of outputs in validation: 1328\tTotal number of outputs in validation: 1560\tTotal validation loss 60.455002546310425\n",
            "Epoch 34:\n",
            "training accuracy: 0.9598746081504702\ttraining loss: 0.008794737490460417\tvalidation accuracy: 0.8326923076923077\tvalidation loss:0.04254722289549999\n",
            "Correct number of outputs in validation: 1299\tTotal number of outputs in validation: 1560\tTotal validation loss 66.37366771697998\n",
            "Epoch 35:\n",
            "training accuracy: 0.9594043887147335\ttraining loss: 0.00907901333539884\tvalidation accuracy: 0.8185897435897436\tvalidation loss:0.04601337145536374\n",
            "Correct number of outputs in validation: 1277\tTotal number of outputs in validation: 1560\tTotal validation loss 71.78085947036743\n",
            "Epoch 36:\n",
            "training accuracy: 0.9620689655172414\ttraining loss: 0.008340045982580573\tvalidation accuracy: 0.8282051282051283\tvalidation loss:0.04372832778936778\n",
            "Correct number of outputs in validation: 1292\tTotal number of outputs in validation: 1560\tTotal validation loss 68.21619135141373\n",
            "Epoch 37:\n",
            "training accuracy: 0.9670846394984326\ttraining loss: 0.007313685797645381\tvalidation accuracy: 0.8442307692307692\tvalidation loss:0.03942153281890429\n",
            "Correct number of outputs in validation: 1317\tTotal number of outputs in validation: 1560\tTotal validation loss 61.49759119749069\n",
            "Epoch 38:\n",
            "training accuracy: 0.9683385579937304\ttraining loss: 0.006652616487588255\tvalidation accuracy: 0.8467948717948718\tvalidation loss:0.0386258174211551\n",
            "Correct number of outputs in validation: 1321\tTotal number of outputs in validation: 1560\tTotal validation loss 60.25627517700195\n",
            "Epoch 39:\n",
            "training accuracy: 0.967398119122257\ttraining loss: 0.006810470095902775\tvalidation accuracy: 0.8435897435897436\tvalidation loss:0.03957474525922384\n",
            "Correct number of outputs in validation: 1316\tTotal number of outputs in validation: 1560\tTotal validation loss 61.73660260438919\n",
            "Epoch 40:\n",
            "training accuracy: 0.9688087774294671\ttraining loss: 0.006304787581955845\tvalidation accuracy: 0.8442307692307692\tvalidation loss:0.03950253178675969\n",
            "Correct number of outputs in validation: 1317\tTotal number of outputs in validation: 1560\tTotal validation loss 61.62394958734512\n",
            "Epoch 41:\n",
            "training accuracy: 0.9586206896551724\ttraining loss: 0.008999881965216238\tvalidation accuracy: 0.8269230769230769\tvalidation loss:0.0435182973360404\n",
            "Correct number of outputs in validation: 1290\tTotal number of outputs in validation: 1560\tTotal validation loss 67.88854384422302\n",
            "Epoch 42:\n",
            "training accuracy: 0.938244514106583\ttraining loss: 0.015185110808166216\tvalidation accuracy: 0.8294871794871795\tvalidation loss:0.043146927883991826\n",
            "Correct number of outputs in validation: 1294\tTotal number of outputs in validation: 1560\tTotal validation loss 67.30920749902725\n",
            "Epoch 43:\n",
            "training accuracy: 0.9487460815047022\ttraining loss: 0.01246622331954282\tvalidation accuracy: 0.8378205128205128\tvalidation loss:0.04060202229481477\n",
            "Correct number of outputs in validation: 1307\tTotal number of outputs in validation: 1560\tTotal validation loss 63.33915477991104\n",
            "Epoch 44:\n",
            "training accuracy: 0.9575235109717868\ttraining loss: 0.010018333273598206\tvalidation accuracy: 0.8403846153846154\tvalidation loss:0.040869438724640085\n",
            "Correct number of outputs in validation: 1311\tTotal number of outputs in validation: 1560\tTotal validation loss 63.75632441043854\n",
            "Epoch 45:\n",
            "training accuracy: 0.957680250783699\ttraining loss: 0.009948296976920953\tvalidation accuracy: 0.8455128205128205\tvalidation loss:0.04042002459367116\n",
            "Correct number of outputs in validation: 1319\tTotal number of outputs in validation: 1560\tTotal validation loss 63.055238366127014\n",
            "Epoch 46:\n",
            "training accuracy: 0.9656739811912226\ttraining loss: 0.007935627287131118\tvalidation accuracy: 0.8333333333333334\tvalidation loss:0.04112007702008272\n",
            "Correct number of outputs in validation: 1300\tTotal number of outputs in validation: 1560\tTotal validation loss 64.14732015132904\n",
            "Epoch 47:\n",
            "training accuracy: 0.9678683385579937\ttraining loss: 0.006836625975396099\tvalidation accuracy: 0.8320512820512821\tvalidation loss:0.04094588871185596\n",
            "Correct number of outputs in validation: 1298\tTotal number of outputs in validation: 1560\tTotal validation loss 63.8755863904953\n",
            "Epoch 48:\n",
            "training accuracy: 0.9686520376175548\ttraining loss: 0.006568881915444304\tvalidation accuracy: 0.8384615384615385\tvalidation loss:0.04090203497654352\n",
            "Correct number of outputs in validation: 1308\tTotal number of outputs in validation: 1560\tTotal validation loss 63.8071745634079\n",
            "Epoch 49:\n",
            "training accuracy: 0.9686520376175548\ttraining loss: 0.006477549837954739\tvalidation accuracy: 0.8474358974358974\tvalidation loss:0.039888170820016125\n",
            "Correct number of outputs in validation: 1322\tTotal number of outputs in validation: 1560\tTotal validation loss 62.22554647922516\n",
            "Epoch 50:\n",
            "training accuracy: 0.9689655172413794\ttraining loss: 0.006302455118142045\tvalidation accuracy: 0.833974358974359\tvalidation loss:0.04097273819721662\n",
            "Correct number of outputs in validation: 1301\tTotal number of outputs in validation: 1560\tTotal validation loss 63.91747158765793\n",
            "Epoch 51:\n",
            "training accuracy: 0.9695924764890282\ttraining loss: 0.006176284317884793\tvalidation accuracy: 0.8467948717948718\tvalidation loss:0.04010721880656022\n",
            "Correct number of outputs in validation: 1321\tTotal number of outputs in validation: 1560\tTotal validation loss 62.56726133823395\n",
            "Epoch 52:\n",
            "training accuracy: 0.9689655172413794\ttraining loss: 0.006095843746685963\tvalidation accuracy: 0.8487179487179487\tvalidation loss:0.04007868529894413\n",
            "Correct number of outputs in validation: 1324\tTotal number of outputs in validation: 1560\tTotal validation loss 62.522749066352844\n",
            "Epoch 53:\n",
            "training accuracy: 0.969435736677116\ttraining loss: 0.006041327438851509\tvalidation accuracy: 0.8480769230769231\tvalidation loss:0.0400669657267057\n",
            "Correct number of outputs in validation: 1323\tTotal number of outputs in validation: 1560\tTotal validation loss 62.50446653366089\n",
            "Epoch 54:\n",
            "training accuracy: 0.9684952978056426\ttraining loss: 0.0062672540054986466\tvalidation accuracy: 0.8544871794871794\tvalidation loss:0.0385562267823097\n",
            "Correct number of outputs in validation: 1333\tTotal number of outputs in validation: 1560\tTotal validation loss 60.14771378040314\n",
            "Epoch 55:\n",
            "training accuracy: 0.9517241379310345\ttraining loss: 0.010979332588613033\tvalidation accuracy: 0.8333333333333334\tvalidation loss:0.042792734274497396\n",
            "Correct number of outputs in validation: 1300\tTotal number of outputs in validation: 1560\tTotal validation loss 66.75666546821594\n",
            "Epoch 56:\n",
            "training accuracy: 0.9539184952978056\ttraining loss: 0.011181713199698393\tvalidation accuracy: 0.8448717948717949\tvalidation loss:0.03866019879396145\n",
            "Correct number of outputs in validation: 1318\tTotal number of outputs in validation: 1560\tTotal validation loss 60.309910118579865\n",
            "Epoch 57:\n",
            "training accuracy: 0.9412225705329154\ttraining loss: 0.013642732053411231\tvalidation accuracy: 0.833974358974359\tvalidation loss:0.04322559944330118\n",
            "Correct number of outputs in validation: 1301\tTotal number of outputs in validation: 1560\tTotal validation loss 67.43193513154984\n",
            "Epoch 58:\n",
            "training accuracy: 0.9586206896551724\ttraining loss: 0.009713483417879639\tvalidation accuracy: 0.8269230769230769\tvalidation loss:0.04426460739893791\n",
            "Correct number of outputs in validation: 1290\tTotal number of outputs in validation: 1560\tTotal validation loss 69.05278754234314\n",
            "Epoch 59:\n",
            "training accuracy: 0.958307210031348\ttraining loss: 0.009744748260043444\tvalidation accuracy: 0.833974358974359\tvalidation loss:0.04004957397014667\n",
            "Correct number of outputs in validation: 1301\tTotal number of outputs in validation: 1560\tTotal validation loss 62.4773353934288\n",
            "Epoch 60:\n",
            "training accuracy: 0.9650470219435736\ttraining loss: 0.008167238168850495\tvalidation accuracy: 0.8525641025641025\tvalidation loss:0.03729964070595228\n",
            "Correct number of outputs in validation: 1330\tTotal number of outputs in validation: 1560\tTotal validation loss 58.18743950128555\n",
            "Epoch 61:\n",
            "training accuracy: 0.9697492163009405\ttraining loss: 0.006753368527981742\tvalidation accuracy: 0.8602564102564103\tvalidation loss:0.036596612746898946\n",
            "Correct number of outputs in validation: 1342\tTotal number of outputs in validation: 1560\tTotal validation loss 57.09071588516235\n",
            "Epoch 62:\n",
            "training accuracy: 0.9664576802507837\ttraining loss: 0.007233211864661834\tvalidation accuracy: 0.841025641025641\tvalidation loss:0.03884487858949563\n",
            "Correct number of outputs in validation: 1312\tTotal number of outputs in validation: 1560\tTotal validation loss 60.59801059961319\n",
            "Epoch 63:\n",
            "training accuracy: 0.969435736677116\ttraining loss: 0.006531718378261806\tvalidation accuracy: 0.8519230769230769\tvalidation loss:0.03731913493993955\n",
            "Correct number of outputs in validation: 1329\tTotal number of outputs in validation: 1560\tTotal validation loss 58.217850506305695\n",
            "Epoch 64:\n",
            "training accuracy: 0.9697492163009405\ttraining loss: 0.0064176897941665215\tvalidation accuracy: 0.8589743589743589\tvalidation loss:0.03659427433441847\n",
            "Correct number of outputs in validation: 1340\tTotal number of outputs in validation: 1560\tTotal validation loss 57.08706796169281\n",
            "Epoch 65:\n",
            "training accuracy: 0.9699059561128527\ttraining loss: 0.006247222969501183\tvalidation accuracy: 0.8532051282051282\tvalidation loss:0.03770633397194056\n",
            "Correct number of outputs in validation: 1331\tTotal number of outputs in validation: 1560\tTotal validation loss 58.821880996227264\n",
            "Epoch 66:\n",
            "training accuracy: 0.9653605015673982\ttraining loss: 0.007302839487650925\tvalidation accuracy: 0.8544871794871794\tvalidation loss:0.03614874378992961\n",
            "Correct number of outputs in validation: 1333\tTotal number of outputs in validation: 1560\tTotal validation loss 56.39204031229019\n",
            "Epoch 67:\n",
            "training accuracy: 0.9594043887147335\ttraining loss: 0.009309977185868637\tvalidation accuracy: 0.85\tvalidation loss:0.037122797469298044\n",
            "Correct number of outputs in validation: 1326\tTotal number of outputs in validation: 1560\tTotal validation loss 57.91156405210495\n",
            "Epoch 68:\n",
            "training accuracy: 0.9554858934169279\ttraining loss: 0.010950012151210286\tvalidation accuracy: 0.8487179487179487\tvalidation loss:0.03864296090144378\n",
            "Correct number of outputs in validation: 1324\tTotal number of outputs in validation: 1560\tTotal validation loss 60.28301900625229\n",
            "Epoch 69:\n",
            "training accuracy: 0.961128526645768\ttraining loss: 0.008974351443724013\tvalidation accuracy: 0.8179487179487179\tvalidation loss:0.044783452649911244\n",
            "Correct number of outputs in validation: 1276\tTotal number of outputs in validation: 1560\tTotal validation loss 69.86218613386154\n",
            "Epoch 70:\n",
            "training accuracy: 0.95282131661442\ttraining loss: 0.011139821947835455\tvalidation accuracy: 0.8371794871794872\tvalidation loss:0.04130841115346322\n",
            "Correct number of outputs in validation: 1306\tTotal number of outputs in validation: 1560\tTotal validation loss 64.44112139940262\n",
            "Epoch 71:\n",
            "training accuracy: 0.9498432601880877\ttraining loss: 0.012291841953116991\tvalidation accuracy: 0.8384615384615385\tvalidation loss:0.038579502625343126\n",
            "Correct number of outputs in validation: 1308\tTotal number of outputs in validation: 1560\tTotal validation loss 60.18402409553528\n",
            "Epoch 72:\n",
            "training accuracy: 0.9554858934169279\ttraining loss: 0.009916416057867222\tvalidation accuracy: 0.8256410256410256\tvalidation loss:0.04273493584149923\n",
            "Correct number of outputs in validation: 1288\tTotal number of outputs in validation: 1560\tTotal validation loss 66.6664999127388\n",
            "Epoch 73:\n",
            "training accuracy: 0.9641065830721003\ttraining loss: 0.007894796367185803\tvalidation accuracy: 0.8275641025641025\tvalidation loss:0.04165826046313995\n",
            "Correct number of outputs in validation: 1291\tTotal number of outputs in validation: 1560\tTotal validation loss 64.98688632249832\n",
            "Epoch 74:\n",
            "training accuracy: 0.9661442006269593\ttraining loss: 0.007260019460336822\tvalidation accuracy: 0.8333333333333334\tvalidation loss:0.04064086732956079\n",
            "Correct number of outputs in validation: 1300\tTotal number of outputs in validation: 1560\tTotal validation loss 63.39975303411484\n",
            "Epoch 75:\n",
            "training accuracy: 0.9695924764890282\ttraining loss: 0.0063445251146010285\tvalidation accuracy: 0.8384615384615385\tvalidation loss:0.04013078388495323\n",
            "Correct number of outputs in validation: 1308\tTotal number of outputs in validation: 1560\tTotal validation loss 62.60402286052704\n",
            "Epoch 76:\n",
            "training accuracy: 0.9697492163009405\ttraining loss: 0.0060546373113475995\tvalidation accuracy: 0.8403846153846154\tvalidation loss:0.04010067757887718\n",
            "Correct number of outputs in validation: 1311\tTotal number of outputs in validation: 1560\tTotal validation loss 62.5570570230484\n",
            "Epoch 77:\n",
            "training accuracy: 0.9702194357366771\ttraining loss: 0.006020411273003279\tvalidation accuracy: 0.8352564102564103\tvalidation loss:0.04084503742364737\n",
            "Correct number of outputs in validation: 1303\tTotal number of outputs in validation: 1560\tTotal validation loss 63.71825838088989\n",
            "Epoch 78:\n",
            "training accuracy: 0.9692789968652038\ttraining loss: 0.005979999533758081\tvalidation accuracy: 0.8378205128205128\tvalidation loss:0.040319998753376496\n",
            "Correct number of outputs in validation: 1307\tTotal number of outputs in validation: 1560\tTotal validation loss 62.899198055267334\n",
            "Epoch 79:\n",
            "training accuracy: 0.9664576802507837\ttraining loss: 0.00685034072330239\tvalidation accuracy: 0.8493589743589743\tvalidation loss:0.0412955397596726\n",
            "Correct number of outputs in validation: 1325\tTotal number of outputs in validation: 1560\tTotal validation loss 64.42104202508926\n",
            "Epoch 80:\n",
            "training accuracy: 0.9456112852664577\ttraining loss: 0.01294314506052056\tvalidation accuracy: 0.825\tvalidation loss:0.03967644006778032\n",
            "Correct number of outputs in validation: 1287\tTotal number of outputs in validation: 1560\tTotal validation loss 61.895246505737305\n",
            "Epoch 81:\n",
            "training accuracy: 0.9590909090909091\ttraining loss: 0.009486763373157448\tvalidation accuracy: 0.8506410256410256\tvalidation loss:0.03658742992541729\n",
            "Correct number of outputs in validation: 1327\tTotal number of outputs in validation: 1560\tTotal validation loss 57.07639068365097\n",
            "Epoch 82:\n",
            "training accuracy: 0.9684952978056426\ttraining loss: 0.006869981599370234\tvalidation accuracy: 0.8544871794871794\tvalidation loss:0.03700766953138205\n",
            "Correct number of outputs in validation: 1333\tTotal number of outputs in validation: 1560\tTotal validation loss 57.731964468955994\n",
            "Epoch 83:\n",
            "training accuracy: 0.969435736677116\ttraining loss: 0.006447250536441523\tvalidation accuracy: 0.8551282051282051\tvalidation loss:0.0368894602625798\n",
            "Correct number of outputs in validation: 1334\tTotal number of outputs in validation: 1560\tTotal validation loss 57.54755800962448\n",
            "Epoch 84:\n",
            "training accuracy: 0.9699059561128527\ttraining loss: 0.006178234003449215\tvalidation accuracy: 0.8615384615384616\tvalidation loss:0.03612923446374062\n",
            "Correct number of outputs in validation: 1344\tTotal number of outputs in validation: 1560\tTotal validation loss 56.361605763435364\n",
            "Epoch 85:\n",
            "training accuracy: 0.9664576802507837\ttraining loss: 0.007100437020701955\tvalidation accuracy: 0.8358974358974359\tvalidation loss:0.04085210038301272\n",
            "Correct number of outputs in validation: 1304\tTotal number of outputs in validation: 1560\tTotal validation loss 63.72927659749985\n",
            "Epoch 86:\n",
            "training accuracy: 0.967398119122257\ttraining loss: 0.006975986312806232\tvalidation accuracy: 0.8282051282051283\tvalidation loss:0.04302857758907171\n",
            "Correct number of outputs in validation: 1292\tTotal number of outputs in validation: 1560\tTotal validation loss 67.12458103895187\n",
            "Epoch 87:\n",
            "training accuracy: 0.9642633228840125\ttraining loss: 0.007894203280825693\tvalidation accuracy: 0.8391025641025641\tvalidation loss:0.04094420835757867\n",
            "Correct number of outputs in validation: 1309\tTotal number of outputs in validation: 1560\tTotal validation loss 63.87296503782272\n",
            "Epoch 88:\n",
            "training accuracy: 0.9647335423197492\ttraining loss: 0.007570317992502619\tvalidation accuracy: 0.8288461538461539\tvalidation loss:0.041859515469807845\n",
            "Correct number of outputs in validation: 1293\tTotal number of outputs in validation: 1560\tTotal validation loss 65.30084413290024\n",
            "Epoch 89:\n",
            "training accuracy: 0.9697492163009405\ttraining loss: 0.006458418105720166\tvalidation accuracy: 0.8294871794871795\tvalidation loss:0.04233201784201157\n",
            "Correct number of outputs in validation: 1294\tTotal number of outputs in validation: 1560\tTotal validation loss 66.03794783353806\n",
            "Epoch 90:\n",
            "training accuracy: 0.9688087774294671\ttraining loss: 0.006416501387731876\tvalidation accuracy: 0.8423076923076923\tvalidation loss:0.04021457850168913\n",
            "Correct number of outputs in validation: 1314\tTotal number of outputs in validation: 1560\tTotal validation loss 62.73474246263504\n",
            "Epoch 91:\n",
            "training accuracy: 0.9650470219435736\ttraining loss: 0.007665815583333887\tvalidation accuracy: 0.8288461538461539\tvalidation loss:0.04223587459478623\n",
            "Correct number of outputs in validation: 1293\tTotal number of outputs in validation: 1560\tTotal validation loss 65.88796436786652\n",
            "Epoch 92:\n",
            "training accuracy: 0.9581504702194358\ttraining loss: 0.00960541540482388\tvalidation accuracy: 0.8538461538461538\tvalidation loss:0.03854526587021657\n",
            "Correct number of outputs in validation: 1332\tTotal number of outputs in validation: 1560\tTotal validation loss 60.13061475753784\n",
            "Epoch 93:\n",
            "training accuracy: 0.9641065830721003\ttraining loss: 0.007993220891161211\tvalidation accuracy: 0.8442307692307692\tvalidation loss:0.038867604732513425\n",
            "Correct number of outputs in validation: 1317\tTotal number of outputs in validation: 1560\tTotal validation loss 60.63346338272095\n",
            "Epoch 94:\n",
            "training accuracy: 0.9672413793103448\ttraining loss: 0.0070399668502700175\tvalidation accuracy: 0.8448717948717949\tvalidation loss:0.039948235337550826\n",
            "Correct number of outputs in validation: 1318\tTotal number of outputs in validation: 1560\tTotal validation loss 62.319247126579285\n",
            "Epoch 95:\n",
            "training accuracy: 0.9684952978056426\ttraining loss: 0.006691121906158879\tvalidation accuracy: 0.8320512820512821\tvalidation loss:0.041131480993368684\n",
            "Correct number of outputs in validation: 1298\tTotal number of outputs in validation: 1560\tTotal validation loss 64.16511034965515\n",
            "Epoch 96:\n",
            "training accuracy: 0.9669278996865204\ttraining loss: 0.007224159936645422\tvalidation accuracy: 0.8397435897435898\tvalidation loss:0.040999544316377395\n",
            "Correct number of outputs in validation: 1310\tTotal number of outputs in validation: 1560\tTotal validation loss 63.95928913354874\n",
            "Epoch 97:\n",
            "training accuracy: 0.9689655172413794\ttraining loss: 0.006570465762903884\tvalidation accuracy: 0.8467948717948718\tvalidation loss:0.03832641205726526\n",
            "Correct number of outputs in validation: 1321\tTotal number of outputs in validation: 1560\tTotal validation loss 59.7892028093338\n",
            "Epoch 98:\n",
            "training accuracy: 0.9688087774294671\ttraining loss: 0.006640094899657098\tvalidation accuracy: 0.8493589743589743\tvalidation loss:0.039621628400606984\n",
            "Correct number of outputs in validation: 1325\tTotal number of outputs in validation: 1560\tTotal validation loss 61.8097403049469\n",
            "Epoch 99:\n",
            "training accuracy: 0.9664576802507837\ttraining loss: 0.007343358792317885\tvalidation accuracy: 0.8544871794871794\tvalidation loss:0.03791071145962446\n",
            "Correct number of outputs in validation: 1333\tTotal number of outputs in validation: 1560\tTotal validation loss 59.14070987701416\n",
            "Total time:   28.29 s  Time per Epoch:   0.28 s \n",
            "The best epoch: 3\tAccuracy:0.8666666666666667\n"
          ]
        },
        {
          "output_type": "display_data",
          "data": {
            "text/plain": [
              "<Figure size 432x288 with 1 Axes>"
            ],
            "image/png": "[encoded data removed]"
          },
          "metadata": {
            "needs_background": "light"
          }
        },
        {
          "output_type": "display_data",
          "data": {
            "text/plain": [
              "<Figure size 432x288 with 1 Axes>"
            ],
            "image/png": "[encoded data removed]"
          },
          "metadata": {
            "needs_background": "light"
          }
        },
        {
          "output_type": "display_data",
          "data": {
            "text/plain": [
              "<Figure size 432x288 with 1 Axes>"
            ],
            "image/png": "[encoded data removed]"
          },
          "metadata": {
            "needs_background": "light"
          }
        },
        {
          "output_type": "display_data",
          "data": {
            "text/plain": [
              "<Figure size 432x288 with 1 Axes>"
            ],
            "image/png": "[encoded data removed]"
          },
          "metadata": {
            "needs_background": "light"
          }
        }
      ]
    },
    {
      "cell_type": "code",
      "source": [
        "parameters = (50, 256, 7) # (input size, hidden size, number of classes)\n",
        "model_path = get_model_path(\"LSTM_3\", 256, 0.01, 23, \"Aug_11_1_bidirectional_1_layers_hidden_size_256\")\n",
        "test_result = test_model(LSTM_news_classifier_3, parameters, True, model_path, test_loader, nn.MSELoss())\n",
        "print(\"Correct: {0}\\tTotal: {1}\\tAccuracy: {2}\\tLoss: {3}\".format(test_result[0], test_result[1], test_result[2], test_result[3]))"
      ],
      "metadata": {
        "colab": {
          "base_uri": "https://localhost:8080/"
        },
        "id": "mIwuRN97q3Yh",
        "outputId": "0d0eafca-9466-44ae-8264-5c90c96e4b08"
      },
      "execution_count": 25,
      "outputs": [
        {
          "output_type": "stream",
          "name": "stdout",
          "text": [
            "CUDA is available!  Training on GPU ...\n",
            "Correct: 1354\tTotal: 1560\tAccuracy: 0.867948717948718\tLoss: 0.033537411575133985\n"
          ]
        }
      ]
    },
    {
      "cell_type": "code",
      "source": [
        "def bestTest(parameters, name, batch_size, learning_rate, num_epoch, exercise_code, net_type, criterion):\n",
        "    \n",
        "    results = []\n",
        "\n",
        "    for epoch in range(num_epoch):\n",
        "        \n",
        "        model_path = get_model_path(name, batch_size, learning_rate, epoch, exercise_code)\n",
        "        result = test_model(net_type, parameters, use_cuda, model_path, test_loader, criterion)[2]\n",
        "        results.append(result)\n",
        "\n",
        "    print('model name:',exercise_code,'best epoch is',results.index(max(results)),'test accuracy is',max(results))\n"
      ],
      "metadata": {
        "id": "EilBmdOcsj6F"
      },
      "execution_count": 39,
      "outputs": []
    },
    {
      "cell_type": "code",
      "source": [
        "parmeters3 = (50,122,7)"
      ],
      "metadata": {
        "id": "68XClQKZ5Zzw"
      },
      "execution_count": 107,
      "outputs": []
    },
    {
      "cell_type": "code",
      "source": [
        "bestTest(parmeters3, 'LSTM_3', 244, 0.01, 100, 'Aug_11_2_bidirectional_1_layers_hidden_size_122', LSTM_news_classifier_3, nn.MSELoss())"
      ],
      "metadata": {
        "colab": {
          "base_uri": "https://localhost:8080/"
        },
        "id": "opNOHh0dxc2q",
        "outputId": "3844fc42-533a-4138-81ac-ec339510da0c"
      },
      "execution_count": 108,
      "outputs": [
        {
          "output_type": "stream",
          "name": "stdout",
          "text": [
            "CUDA is available!  Training on GPU ...\n",
            "CUDA is available!  Training on GPU ...\n",
            "CUDA is available!  Training on GPU ...\n",
            "CUDA is available!  Training on GPU ...\n",
            "CUDA is available!  Training on GPU ...\n",
            "CUDA is available!  Training on GPU ...\n",
            "CUDA is available!  Training on GPU ...\n",
            "CUDA is available!  Training on GPU ...\n",
            "CUDA is available!  Training on GPU ...\n",
            "CUDA is available!  Training on GPU ...\n",
            "CUDA is available!  Training on GPU ...\n",
            "CUDA is available!  Training on GPU ...\n",
            "CUDA is available!  Training on GPU ...\n",
            "CUDA is available!  Training on GPU ...\n",
            "CUDA is available!  Training on GPU ...\n",
            "CUDA is available!  Training on GPU ...\n",
            "CUDA is available!  Training on GPU ...\n",
            "CUDA is available!  Training on GPU ...\n",
            "CUDA is available!  Training on GPU ...\n",
            "CUDA is available!  Training on GPU ...\n",
            "CUDA is available!  Training on GPU ...\n",
            "CUDA is available!  Training on GPU ...\n",
            "CUDA is available!  Training on GPU ...\n",
            "CUDA is available!  Training on GPU ...\n",
            "CUDA is available!  Training on GPU ...\n",
            "CUDA is available!  Training on GPU ...\n",
            "CUDA is available!  Training on GPU ...\n",
            "CUDA is available!  Training on GPU ...\n",
            "CUDA is available!  Training on GPU ...\n",
            "CUDA is available!  Training on GPU ...\n",
            "CUDA is available!  Training on GPU ...\n",
            "CUDA is available!  Training on GPU ...\n",
            "CUDA is available!  Training on GPU ...\n",
            "CUDA is available!  Training on GPU ...\n",
            "CUDA is available!  Training on GPU ...\n",
            "CUDA is available!  Training on GPU ...\n",
            "CUDA is available!  Training on GPU ...\n",
            "CUDA is available!  Training on GPU ...\n",
            "CUDA is available!  Training on GPU ...\n",
            "CUDA is available!  Training on GPU ...\n",
            "CUDA is available!  Training on GPU ...\n",
            "CUDA is available!  Training on GPU ...\n",
            "CUDA is available!  Training on GPU ...\n",
            "CUDA is available!  Training on GPU ...\n",
            "CUDA is available!  Training on GPU ...\n",
            "CUDA is available!  Training on GPU ...\n",
            "CUDA is available!  Training on GPU ...\n",
            "CUDA is available!  Training on GPU ...\n",
            "CUDA is available!  Training on GPU ...\n",
            "CUDA is available!  Training on GPU ...\n",
            "CUDA is available!  Training on GPU ...\n",
            "CUDA is available!  Training on GPU ...\n",
            "CUDA is available!  Training on GPU ...\n",
            "CUDA is available!  Training on GPU ...\n",
            "CUDA is available!  Training on GPU ...\n",
            "CUDA is available!  Training on GPU ...\n",
            "CUDA is available!  Training on GPU ...\n",
            "CUDA is available!  Training on GPU ...\n",
            "CUDA is available!  Training on GPU ...\n",
            "CUDA is available!  Training on GPU ...\n",
            "CUDA is available!  Training on GPU ...\n",
            "CUDA is available!  Training on GPU ...\n",
            "CUDA is available!  Training on GPU ...\n",
            "CUDA is available!  Training on GPU ...\n",
            "CUDA is available!  Training on GPU ...\n",
            "CUDA is available!  Training on GPU ...\n",
            "CUDA is available!  Training on GPU ...\n",
            "CUDA is available!  Training on GPU ...\n",
            "CUDA is available!  Training on GPU ...\n",
            "CUDA is available!  Training on GPU ...\n",
            "CUDA is available!  Training on GPU ...\n",
            "CUDA is available!  Training on GPU ...\n",
            "CUDA is available!  Training on GPU ...\n",
            "CUDA is available!  Training on GPU ...\n",
            "CUDA is available!  Training on GPU ...\n",
            "CUDA is available!  Training on GPU ...\n",
            "CUDA is available!  Training on GPU ...\n",
            "CUDA is available!  Training on GPU ...\n",
            "CUDA is available!  Training on GPU ...\n",
            "CUDA is available!  Training on GPU ...\n",
            "CUDA is available!  Training on GPU ...\n",
            "CUDA is available!  Training on GPU ...\n",
            "CUDA is available!  Training on GPU ...\n",
            "CUDA is available!  Training on GPU ...\n",
            "CUDA is available!  Training on GPU ...\n",
            "CUDA is available!  Training on GPU ...\n",
            "CUDA is available!  Training on GPU ...\n",
            "CUDA is available!  Training on GPU ...\n",
            "CUDA is available!  Training on GPU ...\n",
            "CUDA is available!  Training on GPU ...\n",
            "CUDA is available!  Training on GPU ...\n",
            "CUDA is available!  Training on GPU ...\n",
            "CUDA is available!  Training on GPU ...\n",
            "CUDA is available!  Training on GPU ...\n",
            "CUDA is available!  Training on GPU ...\n",
            "CUDA is available!  Training on GPU ...\n",
            "CUDA is available!  Training on GPU ...\n",
            "CUDA is available!  Training on GPU ...\n",
            "CUDA is available!  Training on GPU ...\n",
            "CUDA is available!  Training on GPU ...\n",
            "model name: Aug_11_2_bidirectional_1_layers_hidden_size_122 best epoch is 73 test accuracy is 0.8987179487179487\n"
          ]
        }
      ]
    },
    {
      "cell_type": "code",
      "source": [
        "! echo \"Correct: 1323\tTotal: 1560\tAccuracy: 0.8480769230769231\tLoss: 0.03897613139870839\" >> /model/test_result.txt"
      ],
      "metadata": {
        "id": "7NcvTFK-3IH0"
      },
      "execution_count": null,
      "outputs": []
    },
    {
      "cell_type": "code",
      "source": [
        "! cp /model /content/drive/MyDrive/ -r"
      ],
      "metadata": {
        "id": "7BTvmlw9MO6o"
      },
      "execution_count": null,
      "outputs": []
    }
  ],
  "metadata": {
    "kernelspec": {
      "display_name": "Python 3",
      "language": "python",
      "name": "python3"
    },
    "language_info": {
      "codemirror_mode": {
        "name": "ipython",
        "version": 2
      },
      "file_extension": ".py",
      "mimetype": "text/x-python",
      "name": "python",
      "nbconvert_exporter": "python",
      "pygments_lexer": "ipython2",
      "version": "2.7.6"
    },
    "colab": {
      "name": "all_code_lstm_tuning.ipynb",
      "provenance": []
    },
    "accelerator": "GPU",
    "gpuClass": "standard"
  },
  "nbformat": 4,
  "nbformat_minor": 0
}