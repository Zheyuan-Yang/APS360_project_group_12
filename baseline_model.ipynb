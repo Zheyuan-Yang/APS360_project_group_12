{
  "nbformat": 4,
  "nbformat_minor": 0,
  "metadata": {
    "colab": {
      "name": "baseline model.ipynb",
      "provenance": [],
      "collapsed_sections": []
    },
    "kernelspec": {
      "name": "python3",
      "display_name": "Python 3"
    },
    "language_info": {
      "name": "python"
    }
  },
  "cells": [
    {
      "cell_type": "markdown",
      "source": [
        "# Data Preparation"
      ],
      "metadata": {
        "id": "fHo3nmPtT9Wm"
      }
    },
    {
      "cell_type": "code",
      "execution_count": null,
      "metadata": {
        "id": "-Tjl2URkREhl"
      },
      "outputs": [],
      "source": [
        "import numpy as np\n",
        "import pandas as pd\n",
        "import torch\n",
        "import torchtext\n",
        "from torch.utils.data import TensorDataset, DataLoader"
      ]
    },
    {
      "cell_type": "code",
      "source": [
        "# load data from csv file\n",
        "fields = ['news_article', 'news_category']\n",
        "\n",
        "train_data = pd.read_csv('/content/inshort_news_data-train.csv', header=0, encoding='ISO-8859-1', usecols=fields, skip_blank_lines=True)\n",
        "val_data = pd.read_csv('/content/inshort_news_data-val.csv', header=0, encoding='ISO-8859-1', usecols=fields, skip_blank_lines=True)\n",
        "test_data = pd.read_csv('/content/inshort_news_data-test.csv', header=0, encoding='ISO-8859-1', usecols=fields, skip_blank_lines=True)"
      ],
      "metadata": {
        "id": "GUmGx4rmRU-T"
      },
      "execution_count": null,
      "outputs": []
    },
    {
      "cell_type": "code",
      "source": [
        "print('Num training articles: ', len(train_data))\n",
        "print('Num validation articles: ', len(val_data))\n",
        "print('Num testing articles: ', len(test_data))"
      ],
      "metadata": {
        "colab": {
          "base_uri": "https://localhost:8080/"
        },
        "id": "AVZ5yH7_Ry1X",
        "outputId": "d8bd4e19-1a96-49e6-fc81-6ebd74d86df4"
      },
      "execution_count": null,
      "outputs": [
        {
          "output_type": "stream",
          "name": "stdout",
          "text": [
            "Num training articles:  6380\n",
            "Num validation articles:  1560\n",
            "Num testing articles:  1742\n"
          ]
        }
      ]
    },
    {
      "cell_type": "code",
      "source": [
        "print(train_data)"
      ],
      "metadata": {
        "colab": {
          "base_uri": "https://localhost:8080/"
        },
        "id": "_Yq7jq7YR9fZ",
        "outputId": "a2dbaa17-fadf-4cfb-a9b0-2784648f383c"
      },
      "execution_count": null,
      "outputs": [
        {
          "output_type": "stream",
          "name": "stdout",
          "text": [
            "                                           news_article news_category\n",
            "0     DeepMind's AI system 'AlphaFold' has been reco...    technology\n",
            "1     Microsoft Teams will stop working on Internet ...    technology\n",
            "2     China, in response to reports of US adding Chi...    technology\n",
            "3     The global smartphone sales in the third quart...    technology\n",
            "4     The European Union (EU) is hoping that US Pres...    technology\n",
            "...                                                 ...           ...\n",
            "6375  China will open the world's largest radio tele...       science\n",
            "6376  China's Chang'e-5 probe successfully landed in...       science\n",
            "6377  \"Forever chemicals\" used in water-repellent ou...       science\n",
            "6378  The members of the US Space Force will be call...       science\n",
            "6379  Coral populations from Australia's first \"Cora...       science\n",
            "\n",
            "[6380 rows x 2 columns]\n"
          ]
        }
      ]
    },
    {
      "cell_type": "code",
      "source": [
        "# Creating training and testing data\n",
        "X_train = train_data['news_article']\n",
        "Y_train = train_data['news_category']\n",
        "\n",
        "X_test = test_data['news_article']\n",
        "Y_test = test_data['news_category']\n",
        "\n",
        "\n",
        "X_val = val_data['news_article']\n",
        "Y_val = val_data['news_category']\n",
        "\n",
        "print (X_train.shape, Y_train.shape, X_val.shape, Y_val.shape, X_test.shape, Y_test.shape)"
      ],
      "metadata": {
        "colab": {
          "base_uri": "https://localhost:8080/"
        },
        "id": "_jDFAG3nR2b7",
        "outputId": "40750646-723a-48d2-9b38-23b737835f8f"
      },
      "execution_count": null,
      "outputs": [
        {
          "output_type": "stream",
          "name": "stdout",
          "text": [
            "(6380,) (6380,) (1560,) (1560,) (1742,) (1742,)\n"
          ]
        }
      ]
    },
    {
      "cell_type": "code",
      "source": [
        "print(X_train)\n",
        "print(Y_train)"
      ],
      "metadata": {
        "colab": {
          "base_uri": "https://localhost:8080/"
        },
        "id": "hgqGokNCSCPI",
        "outputId": "14236d5e-18de-4b2e-a16d-92f5f6f85773"
      },
      "execution_count": null,
      "outputs": [
        {
          "output_type": "stream",
          "name": "stdout",
          "text": [
            "0       DeepMind's AI system 'AlphaFold' has been reco...\n",
            "1       Microsoft Teams will stop working on Internet ...\n",
            "2       China, in response to reports of US adding Chi...\n",
            "3       The global smartphone sales in the third quart...\n",
            "4       The European Union (EU) is hoping that US Pres...\n",
            "                              ...                        \n",
            "6375    China will open the world's largest radio tele...\n",
            "6376    China's Chang'e-5 probe successfully landed in...\n",
            "6377    \"Forever chemicals\" used in water-repellent ou...\n",
            "6378    The members of the US Space Force will be call...\n",
            "6379    Coral populations from Australia's first \"Cora...\n",
            "Name: news_article, Length: 6380, dtype: object\n",
            "0       technology\n",
            "1       technology\n",
            "2       technology\n",
            "3       technology\n",
            "4       technology\n",
            "           ...    \n",
            "6375       science\n",
            "6376       science\n",
            "6377       science\n",
            "6378       science\n",
            "6379       science\n",
            "Name: news_category, Length: 6380, dtype: object\n"
          ]
        }
      ]
    },
    {
      "cell_type": "markdown",
      "source": [
        "# Prepare X_train and Y_train for package model"
      ],
      "metadata": {
        "id": "_8SmkSN7UMXh"
      }
    },
    {
      "cell_type": "code",
      "source": [
        "Y_train = pd.get_dummies(Y_train).to_numpy()\n",
        "Y_val = pd.get_dummies(Y_val).to_numpy()\n",
        "Y_test = pd.get_dummies(Y_test).to_numpy()\n",
        "\n",
        "print(Y_train)"
      ],
      "metadata": {
        "colab": {
          "base_uri": "https://localhost:8080/"
        },
        "id": "Knq_5tkzS26D",
        "outputId": "4ab890b1-4581-4adc-f8ca-37806723ce43"
      },
      "execution_count": null,
      "outputs": [
        {
          "output_type": "stream",
          "name": "stdout",
          "text": [
            "[[0 0 0 ... 0 1 0]\n",
            " [0 0 0 ... 0 1 0]\n",
            " [0 0 0 ... 0 1 0]\n",
            " ...\n",
            " [0 0 0 ... 0 0 0]\n",
            " [0 0 0 ... 0 0 0]\n",
            " [0 0 0 ... 0 0 0]]\n"
          ]
        }
      ]
    },
    {
      "cell_type": "code",
      "source": [
        "y_train, y_val, y_test = [],[],[]\n",
        "for i in range(Y_train.shape[0]):\n",
        "  for j in range(7):\n",
        "    if Y_train[i][j]==1:\n",
        "      y_train.append(j)\n",
        "\n",
        "y_train = np.array(y_train)\n",
        "\n",
        "for i in range(Y_val.shape[0]):\n",
        "  for j in range(7):\n",
        "    if Y_val[i][j]==1:\n",
        "      y_val.append(j)\n",
        "\n",
        "y_val = np.array(y_val)\n",
        "\n",
        "\n",
        "for i in range(Y_test.shape[0]):\n",
        "  for j in range(7):\n",
        "    if Y_test[i][j]==1:\n",
        "      y_test.append(j)\n",
        "\n",
        "y_test = np.array(y_test)\n",
        "\n",
        "print(y_train.shape, y_val.shape, y_test.shape)"
      ],
      "metadata": {
        "colab": {
          "base_uri": "https://localhost:8080/"
        },
        "id": "oyrMRLWATwu1",
        "outputId": "a4e559d0-44c2-4a22-a53e-7d0a8b49fe31"
      },
      "execution_count": null,
      "outputs": [
        {
          "output_type": "stream",
          "name": "stdout",
          "text": [
            "(6380,) (1560,) (1742,)\n"
          ]
        }
      ]
    },
    {
      "cell_type": "code",
      "source": [
        "X = X_train\n",
        "y = y_train"
      ],
      "metadata": {
        "id": "CvtJ0gUPYMpX"
      },
      "execution_count": null,
      "outputs": []
    },
    {
      "cell_type": "code",
      "source": [
        "from sklearn.model_selection import train_test_split\n",
        "#split dataset into train and test data\n",
        "X_train, X_test, y_train, y_test = train_test_split(X, y, test_size=0.2, random_state=1, stratify=y)"
      ],
      "metadata": {
        "id": "IsEyluhDYKVl"
      },
      "execution_count": null,
      "outputs": []
    },
    {
      "cell_type": "code",
      "source": [
        "print(y_train.shape)"
      ],
      "metadata": {
        "colab": {
          "base_uri": "https://localhost:8080/"
        },
        "id": "cuiZbjp_Z-EZ",
        "outputId": "261e5430-dc44-434c-8581-f15fc1731157"
      },
      "execution_count": null,
      "outputs": [
        {
          "output_type": "stream",
          "name": "stdout",
          "text": [
            "(5104,)\n"
          ]
        }
      ]
    },
    {
      "cell_type": "code",
      "source": [
        "# Extracting features from text files\n",
        "from sklearn.feature_extraction.text import CountVectorizer\n",
        "count_vect = CountVectorizer()\n",
        "X_train_counts = count_vect.fit_transform(X_train)\n",
        "\n",
        "X_test_counts = count_vect.fit_transform(X_test)\n",
        "X_test_counts.shape"
      ],
      "metadata": {
        "colab": {
          "base_uri": "https://localhost:8080/"
        },
        "id": "rdX68FwhWd2P",
        "outputId": "2d4104d5-31dc-4575-9367-fb964675f03d"
      },
      "execution_count": null,
      "outputs": [
        {
          "output_type": "execute_result",
          "data": {
            "text/plain": [
              "(1276, 9361)"
            ]
          },
          "metadata": {},
          "execution_count": 78
        }
      ]
    },
    {
      "cell_type": "code",
      "source": [
        "# TF-IDF\n",
        "from sklearn.feature_extraction.text import TfidfTransformer\n",
        "tfidf_transformer = TfidfTransformer()\n",
        "X_train_tfidf = tfidf_transformer.fit_transform(X_train_counts)\n",
        "\n",
        "X_test_tfidf = tfidf_transformer.fit_transform(X_test_counts)\n",
        "X_test_tfidf.shape"
      ],
      "metadata": {
        "colab": {
          "base_uri": "https://localhost:8080/"
        },
        "id": "ppA2x76fUUtv",
        "outputId": "c785b1a2-b4ee-4375-ff19-a63c62d837a0"
      },
      "execution_count": null,
      "outputs": [
        {
          "output_type": "execute_result",
          "data": {
            "text/plain": [
              "(1276, 9361)"
            ]
          },
          "metadata": {},
          "execution_count": 79
        }
      ]
    },
    {
      "cell_type": "markdown",
      "source": [
        "# KNN, NB, Random Forest model training"
      ],
      "metadata": {
        "id": "c5jVitJ3jjeF"
      }
    },
    {
      "cell_type": "markdown",
      "source": [
        "## NB model"
      ],
      "metadata": {
        "id": "066lD8CHjwdf"
      }
    },
    {
      "cell_type": "code",
      "source": [
        "from sklearn.naive_bayes import MultinomialNB\n",
        "clf = MultinomialNB().fit(X_train_tfidf, y_train)"
      ],
      "metadata": {
        "id": "BqxQRZbpZrUr"
      },
      "execution_count": null,
      "outputs": []
    },
    {
      "cell_type": "code",
      "source": [
        "predicted = clf.predict(X_train_tfidf)\n",
        "np.mean(predicted == y_train)"
      ],
      "metadata": {
        "colab": {
          "base_uri": "https://localhost:8080/"
        },
        "id": "qvLiDXa0afGd",
        "outputId": "ca072cdf-03d5-4a36-b0c9-e66a8d4fc424"
      },
      "execution_count": null,
      "outputs": [
        {
          "output_type": "execute_result",
          "data": {
            "text/plain": [
              "0.9422021943573667"
            ]
          },
          "metadata": {},
          "execution_count": 84
        }
      ]
    },
    {
      "cell_type": "markdown",
      "source": [
        "## random forest model"
      ],
      "metadata": {
        "id": "Lw2M7PaXj0nF"
      }
    },
    {
      "cell_type": "code",
      "source": [
        "from sklearn.neighbors import KNeighborsClassifier\n",
        "from sklearn.ensemble import RandomForestClassifier"
      ],
      "metadata": {
        "id": "e61HOTv0UcgI"
      },
      "execution_count": null,
      "outputs": []
    },
    {
      "cell_type": "code",
      "source": [
        "#rondom forest net\n",
        "rf_net = RandomForestClassifier(n_estimators=100)\n",
        "#apply data to model\n",
        "rf_net.fit(X_train_tfidf, y_train)"
      ],
      "metadata": {
        "id": "UUt0cpotV771"
      },
      "execution_count": null,
      "outputs": []
    },
    {
      "cell_type": "code",
      "source": [
        "predicted = rf_net.predict(X_train_tfidf)\n",
        "np.mean(predicted == y_train)"
      ],
      "metadata": {
        "colab": {
          "base_uri": "https://localhost:8080/"
        },
        "id": "spAJU26tbS7d",
        "outputId": "e1ecd5b9-0e20-4e68-9c13-78c5de2bdc0e"
      },
      "execution_count": null,
      "outputs": [
        {
          "output_type": "execute_result",
          "data": {
            "text/plain": [
              "0.9745297805642633"
            ]
          },
          "metadata": {},
          "execution_count": 86
        }
      ]
    },
    {
      "cell_type": "markdown",
      "source": [
        "## KNN model"
      ],
      "metadata": {
        "id": "8l-tScjmj9id"
      }
    },
    {
      "cell_type": "code",
      "source": [
        "# Create KNN classifier\n",
        "knn = KNeighborsClassifier(n_neighbors = 3)\n",
        "# apply data to model \n",
        "knn.fit(X_train_tfidf,y_train)"
      ],
      "metadata": {
        "id": "AFgRDJUtWI3K"
      },
      "execution_count": null,
      "outputs": []
    },
    {
      "cell_type": "code",
      "source": [
        "predicted = knn.predict(X_train_tfidf)\n",
        "np.mean(predicted == y_train)"
      ],
      "metadata": {
        "colab": {
          "base_uri": "https://localhost:8080/"
        },
        "id": "gZ4fvuP4bWR7",
        "outputId": "36884946-164f-4760-a576-09fafe411c73"
      },
      "execution_count": null,
      "outputs": [
        {
          "output_type": "execute_result",
          "data": {
            "text/plain": [
              "0.9531739811912225"
            ]
          },
          "metadata": {},
          "execution_count": 87
        }
      ]
    },
    {
      "cell_type": "markdown",
      "source": [
        "# ANN baseline model"
      ],
      "metadata": {
        "id": "c_fzam_jl_Tw"
      }
    },
    {
      "cell_type": "markdown",
      "source": [
        "## Data loader"
      ],
      "metadata": {
        "id": "ASX56AGIw6ve"
      }
    },
    {
      "cell_type": "code",
      "source": [
        "import numpy as np\n",
        "import time\n",
        "import torch\n",
        "import os\n",
        "import torch.nn as nn\n",
        "import torch.nn.functional as F\n",
        "import torch.optim as optim\n",
        "import torchvision\n",
        "from torchvision import datasets, models, transforms\n",
        "from torch.utils.data.sampler import SubsetRandomSampler\n",
        "import torchvision.transforms as transforms"
      ],
      "metadata": {
        "id": "6-kAGUDPtrRv"
      },
      "execution_count": 124,
      "outputs": []
    },
    {
      "cell_type": "code",
      "source": [
        "# load data from csv file\n",
        "fields = ['news_article', 'news_category']\n",
        "\n",
        "train_data = pd.read_csv('/content/inshort_news_data-train.csv', header=0, encoding='ISO-8859-1', usecols=fields, skip_blank_lines=True)\n",
        "val_data = pd.read_csv('/content/inshort_news_data-val.csv', header=0, encoding='ISO-8859-1', usecols=fields, skip_blank_lines=True)\n",
        "test_data = pd.read_csv('/content/inshort_news_data-test.csv', header=0, encoding='ISO-8859-1', usecols=fields, skip_blank_lines=True)"
      ],
      "metadata": {
        "id": "UvbsOU99qLY2"
      },
      "execution_count": 102,
      "outputs": []
    },
    {
      "cell_type": "code",
      "source": [
        "# Creating training and testing data\n",
        "X_train = train_data['news_article']\n",
        "Y_train = train_data['news_category']\n",
        "\"\"\"\n",
        "Y_train = np.zeros((X_train.shape[0],1))\n",
        "for i in range((X_train.shape[0])):\n",
        "  for j in range(7):\n",
        "    if (train[j+1][i]==1):\n",
        "      Y_train[i]=j\n",
        "\"\"\"\n",
        "X_test = test_data['news_article']\n",
        "Y_test = test_data['news_category']\n",
        "\"\"\"\n",
        "Y_test = np.zeros((X_test.shape[0],1))\n",
        "for i in range((X_test.shape[0])):\n",
        "  for j in range(7):\n",
        "    if (test[j+1][i]==1):\n",
        "      Y_test[i]=j\n",
        "\"\"\"\n",
        "X_val = val_data['news_article']\n",
        "Y_val = val_data['news_category']\n",
        "\n",
        "print (X_train.shape, Y_train.shape, X_val.shape, Y_val.shape, X_test.shape, Y_test.shape)"
      ],
      "metadata": {
        "colab": {
          "base_uri": "https://localhost:8080/"
        },
        "id": "gzj_GFrzkBI6",
        "outputId": "ae3ef9f0-ae8f-4db8-bde8-350b8746bd41"
      },
      "execution_count": 103,
      "outputs": [
        {
          "output_type": "stream",
          "name": "stdout",
          "text": [
            "(6380,) (6380,) (1560,) (1560,) (1742,) (1742,)\n"
          ]
        }
      ]
    },
    {
      "cell_type": "code",
      "source": [
        "for i in range(X_train.shape[0]):\n",
        "  X_train[i] = X_train[i].split()\n",
        "\n",
        "for j in range(X_val.shape[0]):\n",
        "  X_val[j] = X_val[j].split()\n",
        "\n",
        "for k in range(X_test.shape[0]):\n",
        "  X_test[k] = X_test[k].split()\n",
        "    \n",
        "Y_train = pd.get_dummies(Y_train).to_numpy()\n",
        "Y_val = pd.get_dummies(Y_val).to_numpy()\n",
        "Y_test = pd.get_dummies(Y_test).to_numpy()"
      ],
      "metadata": {
        "id": "u7d7bvz2p9LI"
      },
      "execution_count": 104,
      "outputs": []
    },
    {
      "cell_type": "code",
      "source": [
        "# stopwords to eliminate useless words\n",
        "stopwords = []\n",
        "stop = open('/content/stopwords.txt', encoding=\"utf-8\")\n",
        "for line in stop:\n",
        "  stopwords.append(line.strip())\n",
        "stop.close()"
      ],
      "metadata": {
        "id": "_de5o9jMqVsj"
      },
      "execution_count": 105,
      "outputs": []
    },
    {
      "cell_type": "code",
      "source": [
        "# utilize Glove6B for embedding\n",
        "glove = torchtext.vocab.GloVe(name='6B', dim=50)"
      ],
      "metadata": {
        "colab": {
          "base_uri": "https://localhost:8080/"
        },
        "id": "HocGAuN9qX9B",
        "outputId": "608e27d5-ffdf-4d09-c04d-dc935567cf41"
      },
      "execution_count": 106,
      "outputs": [
        {
          "output_type": "stream",
          "name": "stderr",
          "text": [
            ".vector_cache/glove.6B.zip: 862MB [02:39, 5.39MB/s]                           \n",
            "100%|█████████▉| 399999/400000 [00:12<00:00, 30830.57it/s]\n"
          ]
        }
      ]
    },
    {
      "cell_type": "code",
      "source": [
        "# Filling the embedding matrix\n",
        "embedding_matrix_train = np.zeros((X_train.shape[0], 61, 50))\n",
        "embedding_matrix_val = np.zeros((X_val.shape[0], 61, 50))\n",
        "embedding_matrix_test = np.zeros((X_test.shape[0], 61, 50))\n",
        "\n",
        "for i in range(X_train.shape[0]):\n",
        "  for j in range(len(X_train[i])):\n",
        "    if not (X_train[i][j].lower() in stopwords):\n",
        "      embedding_matrix_train[i][j] = glove[X_train[i][j].lower()]\n",
        "\n",
        "for i in range(X_val.shape[0]):\n",
        "  for j in range(len(X_val[i])):\n",
        "    if not (X_val[i][j].lower() in stopwords):\n",
        "      embedding_matrix_val[i][j] = glove[X_val[i][j].lower()]\n",
        "\n",
        "for i in range(X_test.shape[0]):\n",
        "  for j in range(len(X_test[i])):\n",
        "    if not (X_test[i][j].lower() in stopwords):\n",
        "      embedding_matrix_test[i][j] = glove[X_test[i][j].lower()] "
      ],
      "metadata": {
        "id": "m1Ngep9xqZ4J"
      },
      "execution_count": 107,
      "outputs": []
    },
    {
      "cell_type": "code",
      "source": [
        "X_train_t = torch.from_numpy(embedding_matrix_train).to(torch.float32)\n",
        "Y_train_t = torch.from_numpy(Y_train).to(torch.float32)\n",
        "X_val_t = torch.from_numpy(embedding_matrix_val).to(torch.float32)\n",
        "Y_val_t = torch.from_numpy(Y_val).to(torch.float32)\n",
        "X_test_t = torch.from_numpy(embedding_matrix_test).to(torch.float32)\n",
        "Y_test_t = torch.from_numpy(Y_test).to(torch.float32)"
      ],
      "metadata": {
        "id": "r0JH2K7Xqem7"
      },
      "execution_count": 108,
      "outputs": []
    },
    {
      "cell_type": "code",
      "source": [
        "train_dataset = TensorDataset(X_train_t, Y_train_t)\n",
        "val_dataset = TensorDataset(X_val_t, Y_val_t)\n",
        "test_dataset = TensorDataset(X_test_t, Y_test_t)\n",
        "\n",
        "train_dataloader = DataLoader(train_dataset, batch_size=128)\n",
        "val_dataloader = DataLoader(val_dataset, batch_size=128)\n",
        "test_dataloader = DataLoader(test_dataset, batch_size=128)"
      ],
      "metadata": {
        "id": "k7R3m3WDqfDk"
      },
      "execution_count": 109,
      "outputs": []
    },
    {
      "cell_type": "code",
      "source": [
        "X_train_t.shape"
      ],
      "metadata": {
        "colab": {
          "base_uri": "https://localhost:8080/"
        },
        "id": "CBHfZiQushB1",
        "outputId": "0b7f7e79-d0f2-42db-da84-44c6d448bf27"
      },
      "execution_count": 123,
      "outputs": [
        {
          "output_type": "execute_result",
          "data": {
            "text/plain": [
              "torch.Size([6380, 61, 50])"
            ]
          },
          "metadata": {},
          "execution_count": 123
        }
      ]
    },
    {
      "cell_type": "markdown",
      "source": [
        "## ANN Class"
      ],
      "metadata": {
        "id": "vwfceD8MxAzg"
      }
    },
    {
      "cell_type": "code",
      "source": [
        "class ANN(nn.Module):\n",
        "    def __init__(self):\n",
        "        super(ANN, self).__init__()\n",
        "        self.layer1 = nn.Linear(50*61, 30)\n",
        "        # layer 2 = nn.Linear (30, 15)\n",
        "        self.layer2 = nn.Linear(30, 7)\n",
        "    def forward(self, img):\n",
        "        flattened = img.view(-1, 50*61)\n",
        "        activation1 = self.layer1(flattened)\n",
        "        activation1 = F.relu(activation1)\n",
        "        activation2 = self.layer2(activation1)\n",
        "        return activation2"
      ],
      "metadata": {
        "id": "zbOHiRFasx3f"
      },
      "execution_count": 126,
      "outputs": []
    },
    {
      "cell_type": "markdown",
      "source": [
        "## Training"
      ],
      "metadata": {
        "id": "6bhoE6kJxGR0"
      }
    },
    {
      "cell_type": "code",
      "source": [
        "import matplotlib.pyplot as plt # for plotting\n",
        "\n",
        "\n",
        "\n",
        "def train_net(net, batch_size, learning_rate, num_epochs, momentum, train_loader, val_loader):\n",
        "    assert num_epochs > 0, \"num_epochs must be an integer that is greater than 0\"\n",
        "    assert learning_rate > 0, \"learning_rate must be greater than 0\"\n",
        "    torch.manual_seed(1000)\n",
        "    criterion = nn.MSELoss()\n",
        "    optimizer = torch.optim.Adam(net.parameters(),\n",
        "                                 lr=learning_rate,\n",
        "                                 weight_decay=1e-5)\n",
        "    epochs, train_losses, train_acc, val_losses, val_acc = [], [], [], [], []\n",
        "    start_time = time.time()\n",
        "    for epoch in range(num_epochs):\n",
        "        epochs.append(epoch)\n",
        "        total, correct = 0, 0\n",
        "        total_loss = 0\n",
        "        for articles, labels in train_loader:\n",
        "            out = net(articles)\n",
        "            loss = criterion(out, labels)\n",
        "            total_loss = total_loss + loss.item() * articles.shape[0]\n",
        "            loss.backward()\n",
        "            optimizer.step()\n",
        "            optimizer.zero_grad()\n",
        "            pred = torch.squeeze(out.max(1, keepdim=True)[1], 1)\n",
        "            correct = correct + pred.eq(torch.argmax(labels, dim=1)).sum().item()\n",
        "            total = total + articles.shape[0]\n",
        "        train_acc.append(correct/total)\n",
        "        train_losses.append(total_loss/total)\n",
        "\n",
        "        val_correct = 0\n",
        "        val_total_loss = 0\n",
        "        val_total = 0\n",
        "        for val_articles, val_labels in val_loader:\n",
        "            # if use_cuda and torch.cuda.is_available():\n",
        "                # val_imgs = val_imgs.cuda()\n",
        "                # val_labels = val_labels.cuda()\n",
        "            val_out = net(val_articles)\n",
        "            # print(val_imgs)\n",
        "            val_pred = torch.squeeze(val_out.max(1, keepdim=True)[1], 1)\n",
        "            val_correct = val_correct + val_pred.eq(torch.argmax(val_labels, dim=1)).sum().item()\n",
        "            val_total = val_total + val_articles.shape[0]\n",
        "            val_total_loss = val_total_loss + (criterion(val_out, val_labels)).item() * val_articles.shape[0]\n",
        "        val_losses.append(val_total_loss/val_total) # Append the average loss\n",
        "        val_acc.append(val_correct/val_total)\n",
        "\n",
        "        print(\"Epoch {0}:\\ntraining accuracy: {1}\\ttraining loss: {2}\\tvalidation accuracy: {3}\\tvalidation loss:{4}\".format(epoch, train_acc[epoch], train_losses[epoch], val_acc[epoch], val_losses[epoch]))\n",
        "        print(\"Correct number of outputs in validation: {0}\\tTotal number of outputs in validation: {1}\\tTotal validation loss {2}\".format(val_correct, val_total, val_total_loss))\n",
        "    end_time = time.time()\n",
        "    print(\"Total time:  % 6.2f s  Time per Epoch: % 6.2f s \" % (\n",
        "    (end_time - start_time), ((end_time - start_time) / num_epochs)))\n",
        "\n",
        "    # plotting\n",
        "    plt.title(\"Training Loss Curve\")\n",
        "    plt.plot(epochs, train_losses, label=\"Train\")\n",
        "    plt.xlabel(\"Iterations\")\n",
        "    plt.ylabel(\"Train Loss\")\n",
        "    plt.show()\n",
        "\n",
        "    plt.title(\"Training Accuracy Curve\")\n",
        "    plt.plot(epochs, train_acc, label=\"Training\")\n",
        "    plt.xlabel(\"Iterations\")\n",
        "    plt.ylabel(\"Training Accuracy\")\n",
        "    plt.show()\n",
        "\n",
        "\n",
        "    plt.title(\"Validation Loss Curve\")\n",
        "    plt.plot(epochs, val_losses, label=\"Validation\")\n",
        "    plt.xlabel(\"Epochs\")\n",
        "    plt.ylabel(\"Train Loss\")\n",
        "    plt.show()\n",
        "\n",
        "    plt.title(\"Validation Accuracy Curve\")\n",
        "    plt.plot(epochs, val_acc, label=\"Validation\")\n",
        "    plt.xlabel(\"Epochs\")\n",
        "    plt.ylabel(\"Validation Accuracy\")\n",
        "    plt.show()"
      ],
      "metadata": {
        "id": "_jVkF5WMu6WB"
      },
      "execution_count": 127,
      "outputs": []
    },
    {
      "cell_type": "code",
      "source": [
        "net = ANN()\n",
        "\n",
        "train_net(net, batch_size=128, learning_rate=0.001, num_epochs=10, momentum=0.9, train_loader=train_dataloader, val_loader=val_dataloader)"
      ],
      "metadata": {
        "colab": {
          "base_uri": "https://localhost:8080/",
          "height": 1000
        },
        "id": "oHt_EDo0vdsl",
        "outputId": "3e4d014f-ccf3-473e-8574-8ade4f7c969a"
      },
      "execution_count": 128,
      "outputs": [
        {
          "output_type": "stream",
          "name": "stdout",
          "text": [
            "Epoch 0:\n",
            "training accuracy: 0.7738244514106583\ttraining loss: 0.0650430633496715\tvalidation accuracy: 0.7833333333333333\tvalidation loss:0.06070222923388848\n",
            "Correct number of outputs in validation: 1222\tTotal number of outputs in validation: 1560\tTotal validation loss 94.69547760486603\n",
            "Epoch 1:\n",
            "training accuracy: 0.9556426332288401\ttraining loss: 0.026312287115611628\tvalidation accuracy: 0.7666666666666667\tvalidation loss:0.06052105331268066\n",
            "Correct number of outputs in validation: 1196\tTotal number of outputs in validation: 1560\tTotal validation loss 94.41284316778183\n",
            "Epoch 2:\n",
            "training accuracy: 0.9658307210031348\ttraining loss: 0.016280164177818544\tvalidation accuracy: 0.7564102564102564\tvalidation loss:0.06203863276885106\n",
            "Correct number of outputs in validation: 1180\tTotal number of outputs in validation: 1560\tTotal validation loss 96.78026711940765\n",
            "Epoch 3:\n",
            "training accuracy: 0.9672413793103448\ttraining loss: 0.012273740084100293\tvalidation accuracy: 0.7596153846153846\tvalidation loss:0.06189939796160429\n",
            "Correct number of outputs in validation: 1185\tTotal number of outputs in validation: 1560\tTotal validation loss 96.56306082010269\n",
            "Epoch 4:\n",
            "training accuracy: 0.9683385579937304\ttraining loss: 0.01027482328615312\tvalidation accuracy: 0.7557692307692307\tvalidation loss:0.06273356534731694\n",
            "Correct number of outputs in validation: 1179\tTotal number of outputs in validation: 1560\tTotal validation loss 97.86436194181442\n",
            "Epoch 5:\n",
            "training accuracy: 0.9688087774294671\ttraining loss: 0.009379026095228135\tvalidation accuracy: 0.7551282051282051\tvalidation loss:0.06316880113803423\n",
            "Correct number of outputs in validation: 1178\tTotal number of outputs in validation: 1560\tTotal validation loss 98.5433297753334\n",
            "Epoch 6:\n",
            "training accuracy: 0.9692789968652038\ttraining loss: 0.009247372164551555\tvalidation accuracy: 0.7532051282051282\tvalidation loss:0.06481888703046701\n",
            "Correct number of outputs in validation: 1175\tTotal number of outputs in validation: 1560\tTotal validation loss 101.11746376752853\n",
            "Epoch 7:\n",
            "training accuracy: 0.9695924764890282\ttraining loss: 0.00903596429265218\tvalidation accuracy: 0.757051282051282\tvalidation loss:0.06325637384867057\n",
            "Correct number of outputs in validation: 1181\tTotal number of outputs in validation: 1560\tTotal validation loss 98.67994320392609\n",
            "Epoch 8:\n",
            "training accuracy: 0.969435736677116\ttraining loss: 0.008274342667685126\tvalidation accuracy: 0.7435897435897436\tvalidation loss:0.06447175523409476\n",
            "Correct number of outputs in validation: 1160\tTotal number of outputs in validation: 1560\tTotal validation loss 100.57593816518784\n",
            "Epoch 9:\n",
            "training accuracy: 0.9688087774294671\ttraining loss: 0.008635027248260556\tvalidation accuracy: 0.7461538461538462\tvalidation loss:0.0632191681709045\n",
            "Correct number of outputs in validation: 1164\tTotal number of outputs in validation: 1560\tTotal validation loss 98.62190234661102\n",
            "Total time:    2.53 s  Time per Epoch:   0.25 s \n"
          ]
        },
        {
          "output_type": "display_data",
          "data": {
            "text/plain": [
              "<Figure size 432x288 with 1 Axes>"
            ],
            "image/png": "[encoded data removed]"
          },
          "metadata": {
            "needs_background": "light"
          }
        },
        {
          "output_type": "display_data",
          "data": {
            "text/plain": [
              "<Figure size 432x288 with 1 Axes>"
            ],
            "image/png": "[encoded data removed]"
          },
          "metadata": {
            "needs_background": "light"
          }
        },
        {
          "output_type": "display_data",
          "data": {
            "text/plain": [
              "<Figure size 432x288 with 1 Axes>"
            ],
            "image/png": "[encoded data removed]"
          },
          "metadata": {
            "needs_background": "light"
          }
        },
        {
          "output_type": "display_data",
          "data": {
            "text/plain": [
              "<Figure size 432x288 with 1 Axes>"
            ],
            "image/png": "[encoded data removed]"
          },
          "metadata": {
            "needs_background": "light"
          }
        }
      ]
    },
    {
      "cell_type": "markdown",
      "source": [
        "## Testing"
      ],
      "metadata": {
        "id": "t7rwtKZCxKmZ"
      }
    },
    {
      "cell_type": "code",
      "source": [
        "def test_model(net, data_loader, criterion):\n",
        "    correct = 0\n",
        "    total_loss = 0\n",
        "    total = 0\n",
        "    for articles, labels in data_loader:\n",
        "        out = net(articles)\n",
        "        pred = torch.squeeze(out.max(1, keepdim=True)[1], 1)\n",
        "        correct = correct + pred.eq(torch.argmax(labels, dim=1)).sum().item()\n",
        "        total = total + articles.shape[0]\n",
        "        total_loss = total_loss + (criterion(out, labels)).item() * articles.shape[0]\n",
        "    return correct, total, correct / total, total_loss / total"
      ],
      "metadata": {
        "id": "M1IBt74Gw2Uf"
      },
      "execution_count": 129,
      "outputs": []
    },
    {
      "cell_type": "code",
      "source": [
        "test_result = test_model(net, test_dataloader, nn.MSELoss())\n",
        "print(\"Correct: {0}\\tTotal: {1}\\tAccuracy: {2}\\tLoss: {3}\".format(test_result[0], test_result[1], test_result[2], test_result[3]))"
      ],
      "metadata": {
        "colab": {
          "base_uri": "https://localhost:8080/"
        },
        "id": "HmyClSJEzMMW",
        "outputId": "be740b57-d3c7-4383-d3d3-b1b23428bafd"
      },
      "execution_count": 131,
      "outputs": [
        {
          "output_type": "stream",
          "name": "stdout",
          "text": [
            "Correct: 1267\tTotal: 1742\tAccuracy: 0.7273249138920781\tLoss: 0.07292438485797594\n"
          ]
        }
      ]
    }
  ]
}