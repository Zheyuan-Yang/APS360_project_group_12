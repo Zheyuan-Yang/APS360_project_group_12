{
  "nbformat": 4,
  "nbformat_minor": 0,
  "metadata": {
    "colab": {
      "name": "APS360.ipynb",
      "provenance": [],
      "collapsed_sections": []
    },
    "kernelspec": {
      "name": "python3",
      "display_name": "Python 3"
    },
    "language_info": {
      "name": "python"
    }
  },
  "cells": [
    {
      "cell_type": "code",
      "execution_count": 2,
      "metadata": {
        "id": "-PKJfLv-6N5G"
      },
      "outputs": [],
      "source": [
        "import numpy as np\n",
        "import pandas as pd\n",
        "import torch\n",
        "import torchtext\n",
        "\n",
        "import matplotlib.pyplot as plt"
      ]
    },
    {
      "cell_type": "code",
      "source": [
        "# load data from csv file\n",
        "fields = ['news_article', 'news_category']\n",
        "\n",
        "train_data = pd.read_csv('/content/inshort_news_data-train.csv', header=0, encoding='ISO-8859-1', usecols=fields, skip_blank_lines=True)\n",
        "val_data = pd.read_csv('/content/inshort_news_data-val.csv', header=0, encoding='ISO-8859-1', usecols=fields, skip_blank_lines=True)\n",
        "test_data = pd.read_csv('/content/inshort_news_data-test.csv', header=0, encoding='ISO-8859-1', usecols=fields, skip_blank_lines=True)\n"
      ],
      "metadata": {
        "id": "DOZ2dAbG6-jP"
      },
      "execution_count": 96,
      "outputs": []
    },
    {
      "cell_type": "code",
      "source": [
        "print('Num training articles: ', len(train_data))\n",
        "print('Num validation articles: ', len(val_data))\n",
        "print('Num testing articles: ', len(test_data))"
      ],
      "metadata": {
        "colab": {
          "base_uri": "https://localhost:8080/"
        },
        "id": "_rsoRXNQ7D_X",
        "outputId": "ff75af47-343c-4a85-a881-ae785a6ba32f"
      },
      "execution_count": 87,
      "outputs": [
        {
          "output_type": "stream",
          "name": "stdout",
          "text": [
            "Num training articles:  6380\n",
            "Num validation articles:  1560\n",
            "Num testing articles:  1742\n"
          ]
        }
      ]
    },
    {
      "cell_type": "code",
      "source": [
        "# Creating training and testing data\n",
        "X_train = train_data['news_article']\n",
        "Y_train = train_data['news_category']\n",
        "\"\"\"\n",
        "Y_train = np.zeros((X_train.shape[0],1))\n",
        "for i in range((X_train.shape[0])):\n",
        "  for j in range(7):\n",
        "    if (train[j+1][i]==1):\n",
        "      Y_train[i]=j\n",
        "\"\"\"\n",
        "X_test = test_data['news_article']\n",
        "Y_test = test_data['news_category']\n",
        "\"\"\"\n",
        "Y_test = np.zeros((X_test.shape[0],1))\n",
        "for i in range((X_test.shape[0])):\n",
        "  for j in range(7):\n",
        "    if (test[j+1][i]==1):\n",
        "      Y_test[i]=j\n",
        "\"\"\"\n",
        "X_val = val_data['news_article']\n",
        "Y_val = val_data['news_category']\n",
        "\n",
        "print (X_train.shape, Y_train.shape, X_val.shape, Y_val.shape, X_test.shape, Y_test.shape)"
      ],
      "metadata": {
        "colab": {
          "base_uri": "https://localhost:8080/"
        },
        "id": "w3B9s52UAb9f",
        "outputId": "c1d96db7-09f7-418f-aa9e-0353c026ae4a"
      },
      "execution_count": 97,
      "outputs": [
        {
          "output_type": "stream",
          "name": "stdout",
          "text": [
            "(6380,) (6380,) (1560,) (1560,) (1742,) (1742,)\n"
          ]
        }
      ]
    },
    {
      "cell_type": "code",
      "source": [
        "for i in range(X_train.shape[0]):\n",
        "  X_train[i] = X_train[i].split()\n",
        "\n",
        "for j in range(X_val.shape[0]):\n",
        "  X_val[j] = X_val[j].split()\n",
        "\n",
        "for k in range(X_test.shape[0]):\n",
        "  X_test[k] = X_test[k].split()\n",
        "    \n",
        "Y_train = pd.get_dummies(Y_train)"
      ],
      "metadata": {
        "id": "uQawqWmUFEYl"
      },
      "execution_count": 98,
      "outputs": []
    },
    {
      "cell_type": "code",
      "source": [
        "print(X_train[0])\n",
        "print(type(X_train))\n",
        "print(X_train)\n",
        "\n",
        "print(type(Y_train))\n",
        "print(Y_train)"
      ],
      "metadata": {
        "colab": {
          "base_uri": "https://localhost:8080/"
        },
        "id": "C5cLNtgJFmAL",
        "outputId": "60a08a34-842f-4c26-a3fc-5713414918c8"
      },
      "execution_count": 99,
      "outputs": [
        {
          "output_type": "stream",
          "name": "stdout",
          "text": [
            "[\"DeepMind's\", 'AI', 'system', \"'AlphaFold'\", 'has', 'been', 'recognised', 'as', 'a', 'solution', 'to', '\"protein', 'folding\",', 'a', 'grand', 'challenge', 'in', 'biology', 'for', 'over', '50', 'years.', 'DeepMind', 'showed', 'it', 'can', 'predict', 'how', 'proteins', 'fold', 'into', '3D', 'shapes,', 'a', 'complex', 'process', 'that', 'is', 'fundamental', 'to', 'understanding', 'the', 'biological', 'machinery', 'of', 'life.', 'AlphaFold', 'can', 'predict', 'the', 'shape', 'of', 'proteins', 'within', 'the', 'width', 'of', 'an', 'atom.']\n",
            "<class 'pandas.core.series.Series'>\n",
            "0       [DeepMind's, AI, system, 'AlphaFold', has, bee...\n",
            "1       [Microsoft, Teams, will, stop, working, on, In...\n",
            "2       [China,, in, response, to, reports, of, US, ad...\n",
            "3       [The, global, smartphone, sales, in, the, thir...\n",
            "4       [The, European, Union, (EU), is, hoping, that,...\n",
            "                              ...                        \n",
            "6375    [China, will, open, the, world's, largest, rad...\n",
            "6376    [China's, Chang'e-5, probe, successfully, land...\n",
            "6377    [\"Forever, chemicals\", used, in, water-repelle...\n",
            "6378    [The, members, of, the, US, Space, Force, will...\n",
            "6379    [Coral, populations, from, Australia's, first,...\n",
            "Name: news_article, Length: 6380, dtype: object\n",
            "<class 'pandas.core.frame.DataFrame'>\n",
            "      automobile  entertainment  politics  science  sports  technology  world\n",
            "0              0              0         0        0       0           1      0\n",
            "1              0              0         0        0       0           1      0\n",
            "2              0              0         0        0       0           1      0\n",
            "3              0              0         0        0       0           1      0\n",
            "4              0              0         0        0       0           1      0\n",
            "...          ...            ...       ...      ...     ...         ...    ...\n",
            "6375           0              0         0        1       0           0      0\n",
            "6376           0              0         0        1       0           0      0\n",
            "6377           0              0         0        1       0           0      0\n",
            "6378           0              0         0        1       0           0      0\n",
            "6379           0              0         0        1       0           0      0\n",
            "\n",
            "[6380 rows x 7 columns]\n"
          ]
        }
      ]
    },
    {
      "cell_type": "code",
      "source": [
        "# to see what is the largest number of words in a article\n",
        "# np.unique(np.array([len(ix) for ix in X_train]) , return_counts=True)\n",
        "# np.unique(np.array([len(ix) for ix in X_val]) , return_counts=True)\n",
        "np.unique(np.array([len(ix) for ix in X_test]) , return_counts=True)"
      ],
      "metadata": {
        "colab": {
          "base_uri": "https://localhost:8080/"
        },
        "id": "gSmghLhXMdva",
        "outputId": "7b542405-1cf6-4bec-fee2-d30d41b30753"
      },
      "execution_count": 101,
      "outputs": [
        {
          "output_type": "execute_result",
          "data": {
            "text/plain": [
              "(array([49, 50, 51, 52, 53, 54, 55, 56, 57, 58, 59, 60, 61]),\n",
              " array([  6,   5,   8,  19,  19,  71,  87,  67, 169, 178, 317, 794,   2]))"
            ]
          },
          "metadata": {},
          "execution_count": 101
        }
      ]
    },
    {
      "cell_type": "code",
      "source": [
        "# stopwords to eliminate useless words\n",
        "stopwords = []\n",
        "stop = open('/content/stopwords.txt', encoding=\"utf-8\")\n",
        "for line in stop:\n",
        "  stopwords.append(line.strip())\n",
        "stop.close()"
      ],
      "metadata": {
        "id": "zeV9SswhMHbG"
      },
      "execution_count": 102,
      "outputs": []
    },
    {
      "cell_type": "code",
      "source": [
        "# utilize Glove6B for embedding\n",
        "glove = torchtext.vocab.GloVe(name='6B', dim=50)"
      ],
      "metadata": {
        "id": "c-Lcvjv5LsKa"
      },
      "execution_count": 103,
      "outputs": []
    },
    {
      "cell_type": "code",
      "source": [
        "# Filling the embedding matrix\n",
        "embedding_matrix_train = np.zeros((X_train.shape[0], 61, 50))\n",
        "embedding_matrix_val = np.zeros((X_train.shape[0], 61, 50))\n",
        "embedding_matrix_test = np.zeros((X_test.shape[0], 61, 50))\n",
        "\n",
        "for i in range(X_train.shape[0]):\n",
        "  for j in range(len(X_train[i])):\n",
        "    if not (X_train[i][j].lower() in stopwords):\n",
        "      embedding_matrix_train[i][j] = glove[X_train[i][j].lower()]\n",
        "\n",
        "for i in range(X_val.shape[0]):\n",
        "  for j in range(len(X_val[i])):\n",
        "    if not (X_val[i][j].lower() in stopwords):\n",
        "      embedding_matrix_val[i][j] = glove[X_val[i][j].lower()]\n",
        "\n",
        "for i in range(X_test.shape[0]):\n",
        "  for j in range(len(X_test[i])):\n",
        "    if not (X_test[i][j].lower() in stopwords):\n",
        "      embedding_matrix_test[i][j] = glove[X_test[i][j].lower()] "
      ],
      "metadata": {
        "id": "3SuHNbq7MiNg"
      },
      "execution_count": 106,
      "outputs": []
    },
    {
      "cell_type": "code",
      "source": [
        ""
      ],
      "metadata": {
        "id": "Pz50JwS_QOow"
      },
      "execution_count": null,
      "outputs": []
    }
  ]
}