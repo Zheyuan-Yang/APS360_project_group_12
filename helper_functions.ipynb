{
  "nbformat": 4,
  "nbformat_minor": 0,
  "metadata": {
    "colab": {
      "name": "Untitled0.ipynb",
      "provenance": [],
      "collapsed_sections": []
    },
    "kernelspec": {
      "name": "python3",
      "display_name": "Python 3"
    },
    "language_info": {
      "name": "python"
    }
  },
  "cells": [
    {
      "cell_type": "code",
      "source": [
        "#draft for helper functions"
      ],
      "metadata": {
        "id": "xaoT7-4MElaK"
      },
      "execution_count": null,
      "outputs": []
    },
    {
      "cell_type": "code",
      "source": [
        "# import necessary libs\n",
        "import numpy as np\n",
        "import torch\n",
        "import torch.nn as nn\n",
        "import torch.nn.functional as F\n",
        "import matplotlib.pyplot as plt\n",
        "import torch.optim as optim\n",
        "import time\n",
        "from PIL import Image\n",
        "import torchvision\n",
        "from torchvision import datasets, transforms\n",
        "from torchvision.datasets import ImageFolder\n",
        "from torch.utils.data.sampler import SubsetRandomSampler\n",
        "# check, sanity = 0, 0 #global parameter used for testing input into dataloader\n",
        "plot = False"
      ],
      "metadata": {
        "id": "AGLtGSvxEdmy"
      },
      "execution_count": null,
      "outputs": []
    },
    {
      "cell_type": "code",
      "source": [
        "def get_accuracy(model, train_loader,val_loader,train=False):\n",
        "    \n",
        "    start_time = time.time()\n",
        "\n",
        "    if train:\n",
        "        data = train_loader\n",
        "    else:\n",
        "        data = val_loader\n",
        "\n",
        "    correct = 0\n",
        "    total = 0\n",
        "    for imgs, labels in data:\n",
        "        # #############################################\n",
        "        # #To Enable GPU Usage\n",
        "        # if use_cuda and torch.cuda.is_available():\n",
        "        #   imgs = imgs.cuda()\n",
        "        #   labels = labels.cuda()\n",
        "        # #############################################\n",
        "        output = model(imgs)\n",
        "        \n",
        "        #select index with maximum prediction score\n",
        "        pred = output.max(1, keepdim=True)[1]\n",
        "        correct += pred.eq(labels.view_as(pred)).sum().item()\n",
        "        total += imgs.shape[0]\n",
        "    \n",
        "    end_time = time.time()\n",
        "    elapsed_time = end_time - start_time\n",
        "    print(\"get_accuracy takes: {:.2f} seconds\".format(elapsed_time))\n",
        "    \n",
        "    return correct / total"
      ],
      "metadata": {
        "id": "NovllgRCEQWy"
      },
      "execution_count": null,
      "outputs": []
    },
    {
      "cell_type": "code",
      "source": [
        "# updated version of train function with isolated test_loader\n",
        "\n",
        "def train_isoTest(model, batch_size=64, lr=0.01,num_epochs=30):\n",
        "\n",
        "    global train_loader\n",
        "    global val_loader\n",
        "  \n",
        "    criterion = nn.MSELoss()\n",
        "    optimizer = torch.optim.Adam(model.parameters(),\n",
        "                                 lr=learning_rate, \n",
        "                                 weight_decay=1e-5)\n",
        "\n",
        "    iters, losses, train_acc, val_acc, epochs = [], [], [], [], []\n",
        "    # training\n",
        "    n,k = 0,0 # the number of iterations\n",
        "    for epoch in range(num_epochs):\n",
        "        for imgs, labels in iter(train_loader):\n",
        "            # #############################################\n",
        "            # #To Enable GPU Usage\n",
        "            # if use_cuda and torch.cuda.is_available():\n",
        "            #   imgs = imgs.cuda()\n",
        "            #   labels = labels.cuda()\n",
        "            # #############################################\n",
        "            out = model(imgs)             # forward pass\n",
        "            loss = criterion(out, labels) # compute the total loss\n",
        "            loss.backward()               # backward pass (compute parameter updates)\n",
        "            optimizer.step()              # make the updates for each parameter\n",
        "            optimizer.zero_grad()         # a clean up step for PyTorch\n",
        "\n",
        "            #save the current training information\n",
        "            iters.append(n)\n",
        "            losses.append(float(loss)/batch_size)             # compute *average* loss\n",
        "            n += 1\n",
        "\n",
        "        k+=1\n",
        "        epochs.append(k)\n",
        "        train_acc.append(get_accuracy(model, train_loader,val_loader, train=True)) # compute training accuracy \n",
        "        val_acc.append(get_accuracy(model, train_loader,val_loader, train=False))  # compute validation accuracy\n",
        "        print((\"Epoch {}: loss: {}, Train acc: {} |\"+\n",
        "               \"Validation acc: {}\").format(\n",
        "                   epoch + 1,\n",
        "                   losses[epoch],\n",
        "                   train_acc[epoch],\n",
        "                   val_acc[epoch]))\n",
        "\n",
        "    global plot\n",
        "    if plot == True:\n",
        "        # plotting\n",
        "        plt.title(\"Training Curve\")\n",
        "        plt.plot(iters, losses, label=\"Train\")\n",
        "        plt.xlabel(\"Iterations\")\n",
        "        plt.ylabel(\"Loss\")\n",
        "        plt.show()\n",
        "\n",
        "        plt.title(\"Training Curve\")\n",
        "        plt.plot(epochs, train_acc, label=\"Train\")\n",
        "        plt.plot(epochs, val_acc, label=\"Validation\")\n",
        "        plt.xlabel(\"Epochs\")\n",
        "        plt.ylabel(\"Training Accuracy\")\n",
        "        plt.legend(loc='best')\n",
        "        plt.show()\n",
        "        #global plot\n",
        "        plot = False\n",
        "    \n",
        "\n",
        "    print(\"Final Training Accuracy: {}\".format(train_acc[-1]))\n",
        "    print(\"Final Validation Accuracy: {}\".format(val_acc[-1]))\n"
      ],
      "metadata": {
        "id": "mzRrAwD6Du0n"
      },
      "execution_count": null,
      "outputs": []
    }
  ]
}